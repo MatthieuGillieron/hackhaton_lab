{
 "cells": [
  {
   "cell_type": "markdown",
   "id": "21d38dfa-2875-4058-9a65-a632356beffe",
   "metadata": {},
   "source": [
    "# RAG Benchmark\n",
    "\n",
    "Benchmark the different models."
   ]
  },
  {
   "cell_type": "code",
   "execution_count": 1,
   "id": "413939ea-f8e9-4792-8aed-67d4a98de8f5",
   "metadata": {
    "scrolled": true
   },
   "outputs": [
    {
     "data": {
      "text/html": [
       "<div>\n",
       "<style scoped>\n",
       "    .dataframe tbody tr th:only-of-type {\n",
       "        vertical-align: middle;\n",
       "    }\n",
       "\n",
       "    .dataframe tbody tr th {\n",
       "        vertical-align: top;\n",
       "    }\n",
       "\n",
       "    .dataframe thead th {\n",
       "        text-align: right;\n",
       "    }\n",
       "</style>\n",
       "<table border=\"1\" class=\"dataframe\">\n",
       "  <thead>\n",
       "    <tr style=\"text-align: right;\">\n",
       "      <th></th>\n",
       "      <th>title</th>\n",
       "      <th>url</th>\n",
       "      <th>type</th>\n",
       "      <th>url_text</th>\n",
       "      <th>text_summary</th>\n",
       "    </tr>\n",
       "  </thead>\n",
       "  <tbody>\n",
       "    <tr>\n",
       "      <th>0</th>\n",
       "      <td>informaticien cfc suisse</td>\n",
       "      <td>www.orientation.ch/dyn/show/1900?id=152</td>\n",
       "      <td>apprentissage</td>\n",
       "      <td>Informaticien CFC / Informaticienne CFC - orie...</td>\n",
       "      <td>L’informaticien CFC ou informaticienne CFC est...</td>\n",
       "    </tr>\n",
       "    <tr>\n",
       "      <th>1</th>\n",
       "      <td>école techniques des métiers de Lausanne</td>\n",
       "      <td>https://www.etml.ch/formation/em/informaticien...</td>\n",
       "      <td>école professionelle</td>\n",
       "      <td>Apprentissage d'informaticien·ne - ETML Nous u...</td>\n",
       "      <td>L’École technique des métiers de Lausanne (ETM...</td>\n",
       "    </tr>\n",
       "    <tr>\n",
       "      <th>2</th>\n",
       "      <td>école des métiers Fribourg</td>\n",
       "      <td>https://emf.ch/formation/informaticien-ne-cfc</td>\n",
       "      <td>école professionelle</td>\n",
       "      <td>Informaticien-ne CFC · Ecole des Métiers Fribo...</td>\n",
       "      <td>L’École des Métiers de Fribourg (EMF) propose ...</td>\n",
       "    </tr>\n",
       "    <tr>\n",
       "      <th>3</th>\n",
       "      <td>centre professionel du Nord Vaudois</td>\n",
       "      <td>https://www.cpnv.ch/formations/ecole-metiers/i...</td>\n",
       "      <td>école professionelle</td>\n",
       "      <td>Informaticien-ne CFC - CPNV Aller au contenu M...</td>\n",
       "      <td>Le Centre professionnel du Nord Vaudois (CPNV)...</td>\n",
       "    </tr>\n",
       "    <tr>\n",
       "      <th>4</th>\n",
       "      <td>université de fribourg</td>\n",
       "      <td>www.unifr.ch/inf/fr/informatique</td>\n",
       "      <td>université</td>\n",
       "      <td>Informatique | Département d'informatique  | U...</td>\n",
       "      <td>L’Université de Fribourg propose un cursus com...</td>\n",
       "    </tr>\n",
       "  </tbody>\n",
       "</table>\n",
       "</div>"
      ],
      "text/plain": [
       "                                      title  \\\n",
       "0                  informaticien cfc suisse   \n",
       "1  école techniques des métiers de Lausanne   \n",
       "2                école des métiers Fribourg   \n",
       "3       centre professionel du Nord Vaudois   \n",
       "4                    université de fribourg   \n",
       "\n",
       "                                                 url                  type  \\\n",
       "0            www.orientation.ch/dyn/show/1900?id=152         apprentissage   \n",
       "1  https://www.etml.ch/formation/em/informaticien...  école professionelle   \n",
       "2      https://emf.ch/formation/informaticien-ne-cfc  école professionelle   \n",
       "3  https://www.cpnv.ch/formations/ecole-metiers/i...  école professionelle   \n",
       "4                   www.unifr.ch/inf/fr/informatique            université   \n",
       "\n",
       "                                            url_text  \\\n",
       "0  Informaticien CFC / Informaticienne CFC - orie...   \n",
       "1  Apprentissage d'informaticien·ne - ETML Nous u...   \n",
       "2  Informaticien-ne CFC · Ecole des Métiers Fribo...   \n",
       "3  Informaticien-ne CFC - CPNV Aller au contenu M...   \n",
       "4  Informatique | Département d'informatique  | U...   \n",
       "\n",
       "                                        text_summary  \n",
       "0  L’informaticien CFC ou informaticienne CFC est...  \n",
       "1  L’École technique des métiers de Lausanne (ETM...  \n",
       "2  L’École des Métiers de Fribourg (EMF) propose ...  \n",
       "3  Le Centre professionnel du Nord Vaudois (CPNV)...  \n",
       "4  L’Université de Fribourg propose un cursus com...  "
      ]
     },
     "execution_count": 1,
     "metadata": {},
     "output_type": "execute_result"
    }
   ],
   "source": [
    "import chromadb\n",
    "from chromadb import Documents, EmbeddingFunction, Embeddings, Collection\n",
    "from dotenv import load_dotenv\n",
    "import pandas as pd\n",
    "import numpy as np\n",
    "import os \n",
    "import requests\n",
    "\n",
    "load_dotenv()\n",
    "\n",
    "\n",
    "df = pd.read_csv(\"../data/processed-links.csv\")\n",
    "df.head()"
   ]
  },
  {
   "cell_type": "code",
   "execution_count": 2,
   "id": "b2c51979-e500-49c2-8e2c-2bba3775f4ad",
   "metadata": {},
   "outputs": [],
   "source": [
    "ids: list[str] = df[\"title\"].to_list()\n",
    "# switch here for the column you want to use\n",
    "documents: list[str] = df[\"text_summary\"].to_list()\n",
    "metadatas: list[dict[str, str]] = df.loc[:, [\"title\", \"type\", \"url\"]].to_dict(\"records\")"
   ]
  },
  {
   "cell_type": "markdown",
   "id": "630c4834-5e81-4a08-90da-00a4f4636d6a",
   "metadata": {},
   "source": [
    "## Synthetic Questions Generation"
   ]
  },
  {
   "cell_type": "code",
   "execution_count": 3,
   "id": "5a967807-fbc6-4b88-a598-c1d8eb35dbd5",
   "metadata": {},
   "outputs": [],
   "source": [
    "PRODUCT_ID = os.getenv(\"PRODUCT_ID\")\n",
    "API_TOKEN = os.getenv(\"API_TOKEN\")\n",
    "\n",
    "BASE_URL = f\"https://api.infomaniak.com/1/ai/{PRODUCT_ID}/openai/chat/completions\"\n",
    "HEADERS = {\n",
    "    \"Authorization\": f\"Bearer {API_TOKEN}\",\n",
    "    \"Content-Type\": \"application/json\"\n",
    "}\n",
    "\n",
    "BASIC_QA_PROMPT = \"\"\"\\\n",
    "Le document contextuel est présenté ci-dessous :\n",
    "---------------------\n",
    "{context_str}\n",
    "---------------------\n",
    "\n",
    "Compte tenu des informations contextuelles et en l'absence de connaissances préalables,\n",
    "générez uniquement des questions basées sur la requête ci-dessous.\n",
    "\n",
    "Vous êtes enseignant/professeur. Votre tâche consiste à préparer \\\n",
    "{num_questions_per_chunk} questions pour un prochain \\\n",
    "quiz/examen. Les questions doivent être de nature variée \\\n",
    "à travers le document. Limitez les questions aux \\\n",
    "informations contextuelles fournies.\n",
    "Générez des questions assez courtes, avec un vocabulaire simple.\n",
    "\"\"\"\n",
    "\n",
    "def generate_qa(document: str, num_questions: int = 1) -> str:\n",
    "    input_seq = BASIC_QA_PROMPT.format(context_str=document, num_questions_per_chunk=num_questions)\n",
    "\n",
    "    messages = [\n",
    "            {\"role\": \"user\", \"content\": input_seq},\n",
    "    ]\n",
    "    payload = {\n",
    "            \"model\": \"qwen3\",\n",
    "            \"messages\": messages,\n",
    "            \"temperature\": 0.6,\n",
    "            \"max_tokens\": 50,\n",
    "    }\n",
    "    \n",
    "    resp = requests.post(url=BASE_URL, json=payload, headers=HEADERS)\n",
    "    result = resp.json()\n",
    "    return result[\"choices\"][0][\"message\"][\"content\"]"
   ]
  },
  {
   "cell_type": "code",
   "execution_count": 4,
   "id": "31eab2ab-d22a-4504-81fd-b00dedd2b505",
   "metadata": {},
   "outputs": [
    {
     "name": "stdout",
     "output_type": "stream",
     "text": [
      "[1|25]\n",
      "[2|25]\n",
      "[3|25]\n",
      "[4|25]\n",
      "[5|25]\n",
      "[6|25]\n",
      "[7|25]\n",
      "[8|25]\n",
      "[9|25]\n",
      "[10|25]\n",
      "[11|25]\n",
      "[12|25]\n",
      "[13|25]\n",
      "[14|25]\n",
      "[15|25]\n",
      "[16|25]\n",
      "[17|25]\n",
      "[18|25]\n",
      "[19|25]\n",
      "[20|25]\n",
      "[21|25]\n",
      "[22|25]\n",
      "[23|25]\n",
      "[24|25]\n",
      "[25|25]\n"
     ]
    }
   ],
   "source": [
    "total = len(df)\n",
    "\n",
    "questions_answer_pairs = []\n",
    "for idx in df.index:\n",
    "    print(f\"[{idx + 1}|{total}]\")\n",
    "    \n",
    "    row = df.iloc[idx]\n",
    "    input_seq = \": \".join(row.loc[[\"title\", \"url_text\"]].to_list())\n",
    "\n",
    "    out = generate_qa(input_seq, num_questions=2)\n",
    "    questions_answer_pairs.append((out, row.loc[\"title\"]))"
   ]
  },
  {
   "cell_type": "code",
   "execution_count": 7,
   "id": "26548dda-3afc-4c7c-b47a-83d72cfa78b7",
   "metadata": {},
   "outputs": [
    {
     "name": "stdout",
     "output_type": "stream",
     "text": [
      "['1. Quelles sont les deux orientations possibles pour un apprentissage d’informaticien CFC ?  ', '2. Combien d’années dure l’apprentissage d’informaticien CFC en entreprise ?']\n",
      "[2, 2, 2, 2, 2, 2, 2, 2, 2, 2, 2, 2, 2, 2, 2, 2, 2, 2, 2, 2, 2, 2, 2, 2, 2]\n"
     ]
    }
   ],
   "source": [
    "questions_list = [q.split(\"\\n\") for q, _ in questions_answer_pairs]\n",
    "answers_list = [a for _, a in questions_answer_pairs]\n",
    "\n",
    "filtered = []\n",
    "for qs in questions_list:\n",
    "    y = []\n",
    "    for q in qs:\n",
    "        if len(q) > 0:\n",
    "            y.append(q)\n",
    "\n",
    "    filtered.append(y)\n",
    "\n",
    "questions_list = filtered\n",
    "\n",
    "print(questions_list[0])\n",
    "print([len(q) for q in questions_list])"
   ]
  },
  {
   "cell_type": "code",
   "execution_count": 47,
   "id": "119754d2-5943-4102-95e7-e91820e35aba",
   "metadata": {},
   "outputs": [
    {
     "data": {
      "text/plain": [
       "(25, 25, 25)"
      ]
     },
     "execution_count": 47,
     "metadata": {},
     "output_type": "execute_result"
    }
   ],
   "source": [
    "q1s = [q1 for (q1, _) in questions_list]\n",
    "q2s = [q2 for (_, q2) in questions_list]\n",
    "\n",
    "len(q1s), len(q2s), len(answers_list)"
   ]
  },
  {
   "cell_type": "code",
   "execution_count": 57,
   "id": "8288cdd1-7a4f-4b58-ab79-eb9a61fe4024",
   "metadata": {},
   "outputs": [],
   "source": [
    "qa_df = pd.DataFrame(list(zip(q1s, q2s, answers_list)), columns=[\"question_1\", \"question_2\", \"answers\"])\n",
    "qa_df.to_csv(\"../data/questions_answer.csv\", header=True, index=False)"
   ]
  },
  {
   "cell_type": "code",
   "execution_count": 84,
   "id": "341d6c41-27d3-47c0-af0a-7789e50cafe5",
   "metadata": {},
   "outputs": [
    {
     "data": {
      "text/plain": [
       "('informaticien cfc suisse',\n",
       " ['1. Quelles sont les deux orientations possibles pour un apprentissage d’informaticien CFC ?  ',\n",
       "  '2. Combien d’années dure l’apprentissage d’informaticien CFC en entreprise ?'])"
      ]
     },
     "execution_count": 84,
     "metadata": {},
     "output_type": "execute_result"
    }
   ],
   "source": [
    "## load data here\n",
    "\n",
    "qa_df = pd.read_csv(\"../data/questions_answer.csv\")\n",
    "\n",
    "q1 = qa_df[\"question_1\"].to_list()\n",
    "q2 = qa_df[\"question_2\"].to_list()\n",
    "\n",
    "answers = qa_df[\"answers\"].to_list()\n",
    "questions_list = [list(i) for i in zip(q1, q2)]\n",
    "\n",
    "answers[0], questions_list[0]"
   ]
  },
  {
   "cell_type": "markdown",
   "id": "1fba65ff-0511-4a90-8980-aafd056cbb8d",
   "metadata": {},
   "source": [
    "## Measuring Perf"
   ]
  },
  {
   "cell_type": "markdown",
   "id": "7796918a-f81b-4dd7-a556-ef1a44f2cb6d",
   "metadata": {},
   "source": [
    "First two models are on infomaniak.\n",
    "The rest we will need to train ourselves by getting the model with a GPU.\n",
    "\n",
    "|evaluate? | Model name | Link |\n",
    "|:--------:|------------|------|\n",
    "| |MiniLM L12 v2 | https://developer.infomaniak.com/docs/api/post/1/ai/%7Bproduct_id%7D/openai/v1/embeddings |\n",
    "| X |BGE Multilingual Gemma 2 | https://developer.infomaniak.com/docs/api/post/1/ai/%7Bproduct_id%7D/openai/v1/embeddings |\n",
    "| X | paraphrase-multilingual-MiniLM-L12-v2 | https://huggingface.co/sentence-transformers/paraphrase-multilingual-MiniLM-L12-v2 |\n",
    "| X | paraphrase-multilingual-mpnet-base-v2 | https://huggingface.co/sentence-transformers/paraphrase-multilingual-mpnet-base-v2 |\n",
    "| X | distiluse-base-multilingual-cased-v2 | https://huggingface.co/sentence-transformers/distiluse-base-multilingual-cased-v2 |\n",
    "|  | Alibaba-NLP/gte-Qwen2-1.5B-instruct | https://huggingface.co/Alibaba-NLP/gte-Qwen2-1.5B-instruct |\n",
    "|  | BM25 | chromadb through `fastembed` | "
   ]
  },
  {
   "cell_type": "code",
   "execution_count": 35,
   "id": "1119c7d5-d467-4cbe-bd94-9012b9a567c1",
   "metadata": {},
   "outputs": [
    {
     "name": "stdout",
     "output_type": "stream",
     "text": [
      "hearbeat: 1760262447358410056\n"
     ]
    }
   ],
   "source": [
    "from sentence_transformers import SentenceTransformer\n",
    "\n",
    "PRODUCT_ID = os.getenv(\"PRODUCT_ID\")\n",
    "API_TOKEN = os.getenv(\"API_TOKEN\")\n",
    "\n",
    "\n",
    "class MultinligualGemma2(EmbeddingFunction):\n",
    "    def __init__(self, model_name: str) -> None:\n",
    "        self.model_name = model_name\n",
    "        self.url = f\"https://api.infomaniak.com/1/ai/{PRODUCT_ID}/openai/v1/embeddings\"\n",
    "        self.headers = {\n",
    "          'Authorization': f\"Bearer {API_TOKEN}\",\n",
    "          'Content-Type': 'application/json',\n",
    "        }\n",
    "        \n",
    "    def __call__(self, input_data: Documents) -> Embeddings:\n",
    "        payload = {\n",
    "            \"input\": input_data,\n",
    "            \"model\": self.model_name,\n",
    "        }\n",
    "\n",
    "        req = requests.post(url=self.url, json=payload, headers=self.headers)\n",
    "        res = req.json()\n",
    "        data = res[\"data\"]\n",
    "        embeddings = [np.array(x[\"embedding\"]) for x in data]\n",
    "        \n",
    "        return embeddings\n",
    "\n",
    "\n",
    "# Do not evaluate this one\n",
    "class MiniLML12V2(EmbeddingFunction):\n",
    "    def __init__(self) -> None:\n",
    "        self.model_name = \"mini_lm_l12_v2\"\n",
    "        self.url = f\"https://api.infomaniak.com/1/ai/{PRODUCT_ID}/openai/v1/embeddings\"\n",
    "        self.headers = {\n",
    "          'Authorization': f\"Bearer {API_TOKEN}\",\n",
    "          'Content-Type': 'application/json',\n",
    "        }\n",
    "        \n",
    "    def __call__(self, input_data: Documents) -> Embeddings:\n",
    "        payload = {\n",
    "            \"input\": input_data,\n",
    "            \"model\": self.model_name,\n",
    "        }\n",
    "\n",
    "        req = requests.post(url=self.url, json=payload, headers=self.headers)\n",
    "        res = req.json()\n",
    "        data = res[\"data\"]\n",
    "        embeddings = [np.array(x[\"embedding\"]) for x in data]\n",
    "        \n",
    "        return embeddings\n",
    "\n",
    "\n",
    "class SentenceTransformerFunction(EmbeddingFunction):\n",
    "    def __init__(self, model_name: str) -> None:\n",
    "        self.model_name = model_name\n",
    "        self.model = SentenceTransformer(self.model_name)\n",
    "        \n",
    "    def __call__(self, input_data: Documents) -> Embeddings:\n",
    "        embeddings = self.model.encode(input_data)\n",
    "        return embeddings\n",
    "        \n",
    "\n",
    "# model we are interested in \n",
    "mini_lm_l12 = \"sentence-transformers/paraphrase-multilingual-MiniLM-L12-v2\" # 118M\n",
    "mpnet_base = \"sentence-transformers/paraphrase-multilingual-mpnet-base-v2\" # 278M\n",
    "distule_base = \"sentence-transformers/distiluse-base-multilingual-cased-v2\" # 135M\n",
    "\n",
    "collection_names = [\"Gemma2\", \"MiniLM-L12\", \"MPNET-base\", \"Distule-base\"]\n",
    "model_names = [\"bge_multilingual_gemma2\", mini_lm_l12, mpnet_base, distule_base]\n",
    "embedding_functions = [MultinligualGemma2, SentenceTransformerFunction, SentenceTransformerFunction, SentenceTransformerFunction]\n",
    "\n",
    "DB_PATH = \"../data/bench/\"\n",
    "\n",
    "client = chromadb.PersistentClient(path=DB_PATH)\n",
    "# ensure the DB is available\n",
    "print(\"hearbeat:\", client.heartbeat())"
   ]
  },
  {
   "cell_type": "code",
   "execution_count": 27,
   "id": "655dc667-dec9-43f0-a007-2d732e723f1f",
   "metadata": {},
   "outputs": [
    {
     "name": "stdout",
     "output_type": "stream",
     "text": [
      "0\n",
      "Adding docs...\n",
      "Benchmarking...\n",
      "1\n",
      "Adding docs...\n",
      "Benchmarking...\n",
      "2\n",
      "Adding docs...\n",
      "Benchmarking...\n",
      "3\n",
      "Adding docs...\n",
      "Benchmarking...\n",
      "33\n"
     ]
    }
   ],
   "source": [
    "def measure_perf(collection: Collection, questions_list:list[list[str]], answers_list: list[str], top_k: int = 5) -> int:\n",
    "    score = 0\n",
    "    for questions, answer in zip(questions_list, answers_list):\n",
    "        results = collection.query(\n",
    "            query_texts=questions,\n",
    "            n_results=top_k,\n",
    "        )\n",
    "\n",
    "        # measure hit rate\n",
    "        for ids in results[\"ids\"]:\n",
    "            if answer in ids:\n",
    "                score += 1\n",
    "                \n",
    "    return score\n",
    "\n",
    "\n",
    "TOP_K = 5\n",
    "scores = []\n",
    "total_questions = sum([len(q) for q in questions_list])\n",
    "\n",
    "iters = 0\n",
    "for name, model_name, embedding_func in zip(collection_names, model_names, embedding_functions):\n",
    "    print(\"iter:\", iters)\n",
    "    name_k = name + \"_k_\" + str(TOP_K)\n",
    "    collection = client.create_collection(\n",
    "        name=name_k,\n",
    "        embedding_function=embedding_func(model_name),\n",
    "    )\n",
    "    print(\"Adding docs...\")\n",
    "    collection.add(\n",
    "        ids=ids,\n",
    "        metadatas=metadatas,\n",
    "        documents=documents,\n",
    "    )\n",
    "    print(\"Benchmarking...\")\n",
    "    score = measure_perf(collection, questions_list, answers_list, top_k=TOP_K)\n",
    "\n",
    "    scores.append(score)\n",
    "    iters += 1\n",
    "\n",
    "\n",
    "print(scores)"
   ]
  }
 ],
 "metadata": {
  "kernelspec": {
   "display_name": "Python 3 (ipykernel)",
   "language": "python",
   "name": "python3"
  },
  "language_info": {
   "codemirror_mode": {
    "name": "ipython",
    "version": 3
   },
   "file_extension": ".py",
   "mimetype": "text/x-python",
   "name": "python",
   "nbconvert_exporter": "python",
   "pygments_lexer": "ipython3",
   "version": "3.13.2"
  }
 },
 "nbformat": 4,
 "nbformat_minor": 5
}

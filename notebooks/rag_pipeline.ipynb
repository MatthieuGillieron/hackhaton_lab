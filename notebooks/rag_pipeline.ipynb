{
 "cells": [
  {
   "cell_type": "markdown",
   "id": "21d38dfa-2875-4058-9a65-a632356beffe",
   "metadata": {},
   "source": [
    "# RAG Pipeline\n",
    "\n",
    "This notebook is our pipeline to transform the various websites around CS to text and put them in the vector store."
   ]
  },
  {
   "cell_type": "code",
   "execution_count": 1,
   "id": "413939ea-f8e9-4792-8aed-67d4a98de8f5",
   "metadata": {},
   "outputs": [
    {
     "data": {
      "text/plain": [
       "True"
      ]
     },
     "execution_count": 1,
     "metadata": {},
     "output_type": "execute_result"
    }
   ],
   "source": [
    "import chromadb\n",
    "from chromadb.utils.embedding_functions import Bm25EmbeddingFunction, DefaultEmbeddingFunction\n",
    "from chromadb import Documents, EmbeddingFunction, Embeddings\n",
    "from dotenv import load_dotenv\n",
    "import requests\n",
    "from bs4 import BeautifulSoup\n",
    "import pandas as pd\n",
    "import numpy as np\n",
    "import os \n",
    "\n",
    "load_dotenv()"
   ]
  },
  {
   "cell_type": "code",
   "execution_count": 2,
   "id": "dbaf28e9-00c5-4375-b6ff-4ec1159b8460",
   "metadata": {},
   "outputs": [
    {
     "data": {
      "text/html": [
       "<div>\n",
       "<style scoped>\n",
       "    .dataframe tbody tr th:only-of-type {\n",
       "        vertical-align: middle;\n",
       "    }\n",
       "\n",
       "    .dataframe tbody tr th {\n",
       "        vertical-align: top;\n",
       "    }\n",
       "\n",
       "    .dataframe thead th {\n",
       "        text-align: right;\n",
       "    }\n",
       "</style>\n",
       "<table border=\"1\" class=\"dataframe\">\n",
       "  <thead>\n",
       "    <tr style=\"text-align: right;\">\n",
       "      <th></th>\n",
       "      <th>id</th>\n",
       "      <th>name</th>\n",
       "      <th>type</th>\n",
       "      <th>documentation_link</th>\n",
       "      <th>description</th>\n",
       "      <th>info_status</th>\n",
       "      <th>logo_url</th>\n",
       "      <th>last_updated_at</th>\n",
       "      <th>max_token_input</th>\n",
       "      <th>version</th>\n",
       "      <th>meta</th>\n",
       "    </tr>\n",
       "  </thead>\n",
       "  <tbody>\n",
       "    <tr>\n",
       "      <th>6</th>\n",
       "      <td>12</td>\n",
       "      <td>bge_multilingual_gemma2</td>\n",
       "      <td>embedding</td>\n",
       "      <td>https://developer.infomaniak.com/docs/api/post...</td>\n",
       "      <td>Bge Multilingual Gemma2</td>\n",
       "      <td>coming_soon</td>\n",
       "      <td>https://storage4.infomaniak.com/ai-tools/publi...</td>\n",
       "      <td>2024-12-04</td>\n",
       "      <td>8000.0</td>\n",
       "      <td>1.0</td>\n",
       "      <td>{'is_beta': False}</td>\n",
       "    </tr>\n",
       "    <tr>\n",
       "      <th>7</th>\n",
       "      <td>13</td>\n",
       "      <td>mini_lm_l12_v2</td>\n",
       "      <td>embedding</td>\n",
       "      <td>https://developer.infomaniak.com/docs/api/post...</td>\n",
       "      <td>All MiniLM L12 v2</td>\n",
       "      <td>coming_soon</td>\n",
       "      <td>https://storage4.infomaniak.com/ai-tools/publi...</td>\n",
       "      <td>2024-12-04</td>\n",
       "      <td>128.0</td>\n",
       "      <td>2.0</td>\n",
       "      <td>{'is_beta': False}</td>\n",
       "    </tr>\n",
       "  </tbody>\n",
       "</table>\n",
       "</div>"
      ],
      "text/plain": [
       "   id                     name       type  \\\n",
       "6  12  bge_multilingual_gemma2  embedding   \n",
       "7  13           mini_lm_l12_v2  embedding   \n",
       "\n",
       "                                  documentation_link              description  \\\n",
       "6  https://developer.infomaniak.com/docs/api/post...  Bge Multilingual Gemma2   \n",
       "7  https://developer.infomaniak.com/docs/api/post...        All MiniLM L12 v2   \n",
       "\n",
       "   info_status                                           logo_url  \\\n",
       "6  coming_soon  https://storage4.infomaniak.com/ai-tools/publi...   \n",
       "7  coming_soon  https://storage4.infomaniak.com/ai-tools/publi...   \n",
       "\n",
       "  last_updated_at  max_token_input version                meta  \n",
       "6      2024-12-04           8000.0     1.0  {'is_beta': False}  \n",
       "7      2024-12-04            128.0     2.0  {'is_beta': False}  "
      ]
     },
     "execution_count": 2,
     "metadata": {},
     "output_type": "execute_result"
    }
   ],
   "source": [
    "URL = \"https://api.infomaniak.com/1/ai/models\"\n",
    "headers = {\n",
    "  'Authorization': f'Bearer {os.getenv(\"API_TOKEN\")}',\n",
    "  'Content-Type': 'application/json',\n",
    "}\n",
    "req = requests.request(\"GET\", url = URL , headers = headers)\n",
    "res = req.json()\n",
    "\n",
    "info_df = pd.DataFrame(res[\"data\"])\n",
    "info_df[info_df[\"type\"] == \"embedding\"]"
   ]
  },
  {
   "cell_type": "code",
   "execution_count": 3,
   "id": "917b91fa-e67c-4c70-aa38-c788b93f567c",
   "metadata": {},
   "outputs": [],
   "source": [
    "from dotenv import load_dotenv\n",
    "import chromadb\n",
    "import os\n",
    "\n",
    "load_dotenv() \n",
    "\n",
    "chroma_client = chromadb.Client()"
   ]
  },
  {
   "cell_type": "code",
   "execution_count": 4,
   "id": "44c18454-236e-4f91-ae25-a829ee2afe6e",
   "metadata": {},
   "outputs": [
    {
     "data": {
      "text/plain": [
       "Collection(name=main)"
      ]
     },
     "execution_count": 4,
     "metadata": {},
     "output_type": "execute_result"
    }
   ],
   "source": [
    "collection = chroma_client.get_or_create_collection(name=\"main\")\n",
    "collection"
   ]
  },
  {
   "cell_type": "code",
   "execution_count": 5,
   "id": "0e40778f-f14a-4eca-9dd5-c4f737208d1f",
   "metadata": {},
   "outputs": [
    {
     "data": {
      "text/plain": [
       "[Collection(name=main)]"
      ]
     },
     "execution_count": 5,
     "metadata": {},
     "output_type": "execute_result"
    }
   ],
   "source": [
    "chroma_client.list_collections()"
   ]
  },
  {
   "cell_type": "code",
   "execution_count": 6,
   "id": "482288b1-eb46-4eb7-9fe0-bc79103ffca8",
   "metadata": {},
   "outputs": [
    {
     "name": "stdout",
     "output_type": "stream",
     "text": [
      "Number of items in the collection: 4\n"
     ]
    }
   ],
   "source": [
    "# just a quick demo on how this works\n",
    "# by default this uses a MiniLM L6-v2\n",
    "collection.add(\n",
    "    ids=[\"id1\", \"id2\", \"id3\", \"id4\"],\n",
    "    documents=[\n",
    "        \"document sur un cfc / apprentissage\",\n",
    "        \"document sur l'epfl\",\n",
    "        \"document sur 42 Lausanne\",\n",
    "        \"document sur université de fribougr\",\n",
    "    ]\n",
    ")\n",
    "\n",
    "print(\"Number of items in the collection:\", collection.count())"
   ]
  },
  {
   "cell_type": "code",
   "execution_count": 7,
   "id": "a86fb99e-43b6-44de-bda5-6005eee01892",
   "metadata": {},
   "outputs": [
    {
     "data": {
      "text/plain": [
       "{'ids': [['id1']],\n",
       " 'embeddings': None,\n",
       " 'documents': [['document sur un cfc / apprentissage']],\n",
       " 'uris': None,\n",
       " 'included': ['metadatas', 'documents', 'distances'],\n",
       " 'data': None,\n",
       " 'metadatas': [[None]],\n",
       " 'distances': [[0.9254448413848877]]}"
      ]
     },
     "execution_count": 7,
     "metadata": {},
     "output_type": "execute_result"
    }
   ],
   "source": [
    "out = collection.query(\n",
    "    query_texts=[\"J'aimerais faire un apprentissage\"],\n",
    "    n_results=1,\n",
    ")\n",
    "\n",
    "out"
   ]
  },
  {
   "cell_type": "code",
   "execution_count": 8,
   "id": "af8bdcfb-378d-4ee7-95dc-b784f84d7673",
   "metadata": {
    "scrolled": true
   },
   "outputs": [
    {
     "data": {
      "text/plain": [
       "[['document sur université de fribougr', \"document sur l'epfl\"]]"
      ]
     },
     "execution_count": 8,
     "metadata": {},
     "output_type": "execute_result"
    }
   ],
   "source": [
    "out = collection.query(\n",
    "    query_texts=[\"J'aimerais aller au collège pour ensuite faire l'université\"],\n",
    "    n_results=2,\n",
    ")\n",
    "\n",
    "# key documents returns the text of the relevant docs\n",
    "out[\"documents\"]"
   ]
  },
  {
   "cell_type": "code",
   "execution_count": 9,
   "id": "3e24486a-8b56-4ab2-9500-46956950614b",
   "metadata": {},
   "outputs": [],
   "source": [
    "chroma_client.delete_collection(name=\"main\")"
   ]
  },
  {
   "cell_type": "markdown",
   "id": "9b87ba2c-1190-4ddb-ad58-0fdf097fc434",
   "metadata": {},
   "source": [
    "## 1. Data Processing: Conver HTML to Text\n",
    "\n",
    "using beautifulSoup and simple get request, we collect the data from websites."
   ]
  },
  {
   "cell_type": "code",
   "execution_count": 10,
   "id": "958c47e0-3c85-4690-a0e2-d9b50c9f558d",
   "metadata": {},
   "outputs": [
    {
     "name": "stdout",
     "output_type": "stream",
     "text": [
      "Number of chars: 30161\n",
      "Number of words: 3883\n"
     ]
    }
   ],
   "source": [
    "# needed to pretend I am a normal user ;)\n",
    "HEADERS = {\n",
    "    'User-Agent': 'Mozilla/5.0 (Macintosh; Intel Mac OS X 10_11_5) AppleWebKit/537.36 (KHTML, like Gecko) Chrome/50.0.2661.102 Safari/537.36'\n",
    "}\n",
    "\n",
    "def url_to_string(url: str) -> str:\n",
    "    if not url.startswith(\"https://\"):\n",
    "        url = \"https://\" + url\n",
    "    \n",
    "    res = requests.get(url, headers=HEADERS)\n",
    "    res.raise_for_status()\n",
    "\n",
    "    soup = BeautifulSoup(res.text, \"html.parser\")\n",
    "    site_text = \" \".join([text for text in soup.stripped_strings])\n",
    "    return site_text\n",
    "\n",
    "\n",
    "demo_url = \"www.orientation.ch/dyn/show/1900?id=152\"\n",
    "site_text = url_to_string(demo_url)\n",
    "\n",
    "print(\"Number of chars:\", len(site_text))\n",
    "print(\"Number of words:\", len(site_text.split()))"
   ]
  },
  {
   "cell_type": "code",
   "execution_count": 11,
   "id": "1a7dfa16-01bc-435d-8632-cd290f669aa8",
   "metadata": {},
   "outputs": [],
   "source": [
    "df = pd.read_csv(\"../links.csv\")\n",
    "\n",
    "url_list = df[\"link\"].to_list()\n",
    "url_text_list = [url_to_string(url) for url in url_list]"
   ]
  },
  {
   "cell_type": "code",
   "execution_count": 12,
   "id": "96f6beb1-83d3-4afa-9470-38e931cbca79",
   "metadata": {},
   "outputs": [
    {
     "data": {
      "text/html": [
       "<div>\n",
       "<style scoped>\n",
       "    .dataframe tbody tr th:only-of-type {\n",
       "        vertical-align: middle;\n",
       "    }\n",
       "\n",
       "    .dataframe tbody tr th {\n",
       "        vertical-align: top;\n",
       "    }\n",
       "\n",
       "    .dataframe thead th {\n",
       "        text-align: right;\n",
       "    }\n",
       "</style>\n",
       "<table border=\"1\" class=\"dataframe\">\n",
       "  <thead>\n",
       "    <tr style=\"text-align: right;\">\n",
       "      <th></th>\n",
       "      <th>title</th>\n",
       "      <th>link</th>\n",
       "      <th>url_text</th>\n",
       "    </tr>\n",
       "  </thead>\n",
       "  <tbody>\n",
       "    <tr>\n",
       "      <th>0</th>\n",
       "      <td>informaticen cfc</td>\n",
       "      <td>www.orientation.ch/dyn/show/1900?id=152</td>\n",
       "      <td>Informaticien CFC / Informaticienne CFC - orie...</td>\n",
       "    </tr>\n",
       "    <tr>\n",
       "      <th>1</th>\n",
       "      <td>informaticen es</td>\n",
       "      <td>www.orientation.ch/dyn/show/1900?id=885</td>\n",
       "      <td>Informaticien ES / Informaticienne ES - orient...</td>\n",
       "    </tr>\n",
       "    <tr>\n",
       "      <th>2</th>\n",
       "      <td>informatique université de fribourg</td>\n",
       "      <td>www.unifr.ch/inf/fr/informatique</td>\n",
       "      <td>Informatique | Département d'informatique  | U...</td>\n",
       "    </tr>\n",
       "    <tr>\n",
       "      <th>3</th>\n",
       "      <td>informatique de gestion université de fribourg</td>\n",
       "      <td>www.unifr.ch/inf/fr/informatique-de-gestion</td>\n",
       "      <td>Informatique de gestion | Département d'inform...</td>\n",
       "    </tr>\n",
       "    <tr>\n",
       "      <th>4</th>\n",
       "      <td>informatique université de genève</td>\n",
       "      <td>www.unige.ch/dinfo/formations/bachelor</td>\n",
       "      <td>Bachelor en sciences informatiques Présentatio...</td>\n",
       "    </tr>\n",
       "  </tbody>\n",
       "</table>\n",
       "</div>"
      ],
      "text/plain": [
       "                                            title  \\\n",
       "0                                informaticen cfc   \n",
       "1                                 informaticen es   \n",
       "2             informatique université de fribourg   \n",
       "3  informatique de gestion université de fribourg   \n",
       "4               informatique université de genève   \n",
       "\n",
       "                                          link  \\\n",
       "0      www.orientation.ch/dyn/show/1900?id=152   \n",
       "1      www.orientation.ch/dyn/show/1900?id=885   \n",
       "2             www.unifr.ch/inf/fr/informatique   \n",
       "3  www.unifr.ch/inf/fr/informatique-de-gestion   \n",
       "4       www.unige.ch/dinfo/formations/bachelor   \n",
       "\n",
       "                                            url_text  \n",
       "0  Informaticien CFC / Informaticienne CFC - orie...  \n",
       "1  Informaticien ES / Informaticienne ES - orient...  \n",
       "2  Informatique | Département d'informatique  | U...  \n",
       "3  Informatique de gestion | Département d'inform...  \n",
       "4  Bachelor en sciences informatiques Présentatio...  "
      ]
     },
     "execution_count": 12,
     "metadata": {},
     "output_type": "execute_result"
    }
   ],
   "source": [
    "df[\"url_text\"] = url_text_list\n",
    "df.head()"
   ]
  },
  {
   "cell_type": "markdown",
   "id": "7796918a-f81b-4dd7-a556-ef1a44f2cb6d",
   "metadata": {},
   "source": [
    "## 2. RAG Benchmark\n",
    "\n",
    "First two models are on infomaniak.\n",
    "The rest we will need to train ourselves by getting the model with a GPU.\n",
    "\n",
    "|evaluate? | Model name | Link |\n",
    "|:--------:|------------|------|\n",
    "| |MiniLM L12 v2 | https://developer.infomaniak.com/docs/api/post/1/ai/%7Bproduct_id%7D/openai/v1/embeddings |\n",
    "| X |BGE Multilingual Gemma 2 | https://developer.infomaniak.com/docs/api/post/1/ai/%7Bproduct_id%7D/openai/v1/embeddings |\n",
    "| X | paraphrase-multilingual-MiniLM-L12-v2 | https://huggingface.co/sentence-transformers/paraphrase-multilingual-MiniLM-L12-v2 |\n",
    "| X | paraphrase-multilingual-mpnet-base-v2 | https://huggingface.co/sentence-transformers/paraphrase-multilingual-mpnet-base-v2 |\n",
    "| X | distiluse-base-multilingual-cased-v2 | https://huggingface.co/sentence-transformers/distiluse-base-multilingual-cased-v2 |\n",
    "|  | Alibaba-NLP/gte-Qwen2-1.5B-instruct | https://huggingface.co/Alibaba-NLP/gte-Qwen2-1.5B-instruct |\n",
    "| X | BM25 | chromadb through `fastembed` | "
   ]
  },
  {
   "cell_type": "code",
   "execution_count": 13,
   "id": "b2b58f04-f6ab-4eb3-aa08-a603aa8a799f",
   "metadata": {},
   "outputs": [
    {
     "name": "stdout",
     "output_type": "stream",
     "text": [
      "hearbeat: 1760201144161595907\n"
     ]
    }
   ],
   "source": [
    "DB_PATH = \"../data/\"\n",
    "\n",
    "client = chromadb.PersistentClient(path=DB_PATH)\n",
    "# ensure the DB is available\n",
    "print(\"hearbeat:\", client.heartbeat())\n",
    "\n",
    "ids: list[str] = df[\"title\"].to_list() #df.index.astype(\"str\").to_list()\n",
    "documents: list[str] = df[\"url_text\"].to_list()"
   ]
  },
  {
   "cell_type": "markdown",
   "id": "1390312b-944f-4e55-86af-17bcd22322b8",
   "metadata": {},
   "source": [
    "## Infomaniak Model: MultiLingual Gemma 2 and MiniLM-L12-v2\n",
    "\n",
    "The latter is english only, we should not evaluate it."
   ]
  },
  {
   "cell_type": "code",
   "execution_count": 14,
   "id": "203702ec-91d2-401f-9290-0bdf08f22b21",
   "metadata": {},
   "outputs": [
    {
     "name": "stdout",
     "output_type": "stream",
     "text": [
      "200\n"
     ]
    }
   ],
   "source": [
    "PRODUCT_ID = os.getenv(\"PRODUCT_ID\")\n",
    "API_TOKEN = os.getenv(\"API_TOKEN\")\n",
    "\n",
    "URL = f\"https://api.infomaniak.com/1/ai/{PRODUCT_ID}/openai/v1/embeddings\"\n",
    "\n",
    "headers = {\n",
    "  'Authorization': f\"Bearer {API_TOKEN}\",\n",
    "  'Content-Type': 'application/json',\n",
    "}\n",
    "\n",
    "payload = {\n",
    "    \"input\": documents,\n",
    "    \"model\": \"bge_multilingual_gemma2\",\n",
    "    \"mode\": \"index\",\n",
    "}\n",
    "\n",
    "req = requests.post(url=URL , json=payload, headers=headers)\n",
    "res = req.json()\n",
    "print(req.status_code)\n",
    "\n",
    "assert len(documents) == len(res[\"data\"])"
   ]
  },
  {
   "cell_type": "code",
   "execution_count": 15,
   "id": "1119c7d5-d467-4cbe-bd94-9012b9a567c1",
   "metadata": {},
   "outputs": [],
   "source": [
    "PRODUCT_ID = os.getenv(\"PRODUCT_ID\")\n",
    "API_TOKEN = os.getenv(\"API_TOKEN\")\n",
    "\n",
    "\n",
    "class MultinligualGemma2(EmbeddingFunction):\n",
    "    def __init__(self) -> None:\n",
    "        self.model = \"bge_multilingual_gemma2\"\n",
    "        self.url = f\"https://api.infomaniak.com/1/ai/{PRODUCT_ID}/openai/v1/embeddings\"\n",
    "        self.headers = {\n",
    "          'Authorization': f\"Bearer {API_TOKEN}\",\n",
    "          'Content-Type': 'application/json',\n",
    "        }\n",
    "        \n",
    "    def __call__(self, input_data: Documents) -> Embeddings:\n",
    "        payload = {\n",
    "            \"input\": input_data,\n",
    "            \"model\": self.model,\n",
    "        }\n",
    "\n",
    "        req = requests.post(url=self.url, json=payload, headers=self.headers)\n",
    "        res = req.json()\n",
    "        data = res[\"data\"]\n",
    "        embeddings = [np.array(x[\"embedding\"]) for x in data]\n",
    "        \n",
    "        return embeddings\n",
    "\n",
    "\n",
    "class MiniLML12V2(EmbeddingFunction):\n",
    "    def __init__(self) -> None:\n",
    "        self.model = \"mini_lm_l12_v2\"\n",
    "        self.url = f\"https://api.infomaniak.com/1/ai/{PRODUCT_ID}/openai/v1/embeddings\"\n",
    "        self.headers = {\n",
    "          'Authorization': f\"Bearer {API_TOKEN}\",\n",
    "          'Content-Type': 'application/json',\n",
    "        }\n",
    "        \n",
    "    def __call__(self, input_data: Documents) -> Embeddings:\n",
    "        payload = {\n",
    "            \"input\": input_data,\n",
    "            \"model\": self.model,\n",
    "        }\n",
    "\n",
    "        req = requests.post(url=self.url, json=payload, headers=self.headers)\n",
    "        res = req.json()\n",
    "        data = res[\"data\"]\n",
    "        embeddings = [np.array(x[\"embedding\"]) for x in data]\n",
    "        \n",
    "        return embeddings"
   ]
  },
  {
   "cell_type": "code",
   "execution_count": 16,
   "id": "54f47f8a-aecb-43f7-86ec-b69131d1d336",
   "metadata": {},
   "outputs": [
    {
     "name": "stdout",
     "output_type": "stream",
     "text": [
      "Collection(name=multilingual-gemma2)\n",
      "<__main__.MultinligualGemma2 object at 0x759f76accec0>\n"
     ]
    }
   ],
   "source": [
    "multilingual_gemma2_collection = client.get_or_create_collection(\n",
    "    name=\"multilingual-gemma2\",\n",
    "    embedding_function=MultinligualGemma2()\n",
    ")\n",
    "\n",
    "print(multilingual_gemma2_collection)\n",
    "print(multilingual_gemma2_collection._embedding_function)"
   ]
  },
  {
   "cell_type": "code",
   "execution_count": 17,
   "id": "2da32200-7477-4b66-aaf7-c66a8dbbb9cc",
   "metadata": {},
   "outputs": [],
   "source": [
    "multilingual_gemma2_collection.add(\n",
    "    ids=ids,\n",
    "    documents=documents,\n",
    ")"
   ]
  },
  {
   "cell_type": "code",
   "execution_count": 18,
   "id": "55cb6eec-5030-4710-8273-b87e18bacfa2",
   "metadata": {},
   "outputs": [
    {
     "data": {
      "text/plain": [
       "8"
      ]
     },
     "execution_count": 18,
     "metadata": {},
     "output_type": "execute_result"
    }
   ],
   "source": [
    "multilingual_gemma2_collection.count()"
   ]
  },
  {
   "cell_type": "code",
   "execution_count": 19,
   "id": "bd0789a9-48c6-459e-88d2-8798f4869d35",
   "metadata": {},
   "outputs": [],
   "source": [
    "results = multilingual_gemma2_collection.query(\n",
    "    query_texts=[\"J'aimerais faire un apprentissage\"],\n",
    "    n_results=2,\n",
    ")   "
   ]
  },
  {
   "cell_type": "code",
   "execution_count": 20,
   "id": "b7275274-51f6-4e4c-a8d7-1ee26297a3a5",
   "metadata": {},
   "outputs": [
    {
     "data": {
      "text/plain": [
       "[['42 lausanne', 'informaticen cfc']]"
      ]
     },
     "execution_count": 20,
     "metadata": {},
     "output_type": "execute_result"
    }
   ],
   "source": [
    "results[\"ids\"]"
   ]
  },
  {
   "cell_type": "markdown",
   "id": "7e9d2547-d095-41a3-afa8-1001388fc0fb",
   "metadata": {},
   "source": [
    "## BM25 "
   ]
  },
  {
   "cell_type": "code",
   "execution_count": 23,
   "id": "e56305d0-770d-4677-99ff-070797a3fd93",
   "metadata": {},
   "outputs": [
    {
     "name": "stderr",
     "output_type": "stream",
     "text": [
      "/home/matt/Projects/py/hackhaton_lab/.venv/lib/python3.13/site-packages/tqdm/auto.py:21: TqdmWarning: IProgress not found. Please update jupyter and ipywidgets. See https://ipywidgets.readthedocs.io/en/stable/user_install.html\n",
      "  from .autonotebook import tqdm as notebook_tqdm\n"
     ]
    },
    {
     "name": "stdout",
     "output_type": "stream",
     "text": [
      "Collection(name=bm25)\n",
      "<chromadb.utils.embedding_functions.bm25_embedding_function.Bm25EmbeddingFunction object at 0x759f76acc590>\n"
     ]
    }
   ],
   "source": [
    "bm_25_collection = client.get_or_create_collection(\n",
    "    name=\"bm25\",\n",
    "    embedding_function=Bm25EmbeddingFunction()\n",
    ")\n",
    "\n",
    "print(bm_25_collection)\n",
    "print(bm_25_collection._embedding_function)"
   ]
  },
  {
   "cell_type": "code",
   "execution_count": 24,
   "id": "2cb272d5-29ba-49ef-948d-0b106fc88b57",
   "metadata": {
    "scrolled": true
   },
   "outputs": [
    {
     "ename": "TypeError",
     "evalue": "argument 'embeddings': 'dict' object cannot be converted to 'Sequence'",
     "output_type": "error",
     "traceback": [
      "\u001b[31m---------------------------------------------------------------------------\u001b[39m",
      "\u001b[31mTypeError\u001b[39m                                 Traceback (most recent call last)",
      "\u001b[36mCell\u001b[39m\u001b[36m \u001b[39m\u001b[32mIn[24]\u001b[39m\u001b[32m, line 5\u001b[39m\n\u001b[32m      2\u001b[39m documents: \u001b[38;5;28mlist\u001b[39m[\u001b[38;5;28mstr\u001b[39m] = df[\u001b[33m\"\u001b[39m\u001b[33murl_text\u001b[39m\u001b[33m\"\u001b[39m].to_list()\n\u001b[32m      4\u001b[39m \u001b[38;5;66;03m# NOT WOKRING: WHY?\u001b[39;00m\n\u001b[32m----> \u001b[39m\u001b[32m5\u001b[39m \u001b[43mbm_25_collection\u001b[49m\u001b[43m.\u001b[49m\u001b[43madd\u001b[49m\u001b[43m(\u001b[49m\n\u001b[32m      6\u001b[39m \u001b[43m    \u001b[49m\u001b[43mids\u001b[49m\u001b[43m=\u001b[49m\u001b[43mids\u001b[49m\u001b[43m,\u001b[49m\n\u001b[32m      7\u001b[39m \u001b[43m    \u001b[49m\u001b[43mdocuments\u001b[49m\u001b[43m=\u001b[49m\u001b[43mdocuments\u001b[49m\u001b[43m,\u001b[49m\n\u001b[32m      8\u001b[39m \u001b[43m)\u001b[49m\n",
      "\u001b[36mFile \u001b[39m\u001b[32m~/Projects/py/hackhaton_lab/.venv/lib/python3.13/site-packages/chromadb/api/models/Collection.py:93\u001b[39m, in \u001b[36mCollection.add\u001b[39m\u001b[34m(self, ids, embeddings, metadatas, documents, images, uris)\u001b[39m\n\u001b[32m     63\u001b[39m \u001b[38;5;250m\u001b[39m\u001b[33;03m\"\"\"Add embeddings to the data store.\u001b[39;00m\n\u001b[32m     64\u001b[39m \u001b[33;03mArgs:\u001b[39;00m\n\u001b[32m     65\u001b[39m \u001b[33;03m    ids: The ids of the embeddings you wish to add\u001b[39;00m\n\u001b[32m   (...)\u001b[39m\u001b[32m     81\u001b[39m \n\u001b[32m     82\u001b[39m \u001b[33;03m\"\"\"\u001b[39;00m\n\u001b[32m     84\u001b[39m add_request = \u001b[38;5;28mself\u001b[39m._validate_and_prepare_add_request(\n\u001b[32m     85\u001b[39m     ids=ids,\n\u001b[32m     86\u001b[39m     embeddings=embeddings,\n\u001b[32m   (...)\u001b[39m\u001b[32m     90\u001b[39m     uris=uris,\n\u001b[32m     91\u001b[39m )\n\u001b[32m---> \u001b[39m\u001b[32m93\u001b[39m \u001b[38;5;28;43mself\u001b[39;49m\u001b[43m.\u001b[49m\u001b[43m_client\u001b[49m\u001b[43m.\u001b[49m\u001b[43m_add\u001b[49m\u001b[43m(\u001b[49m\n\u001b[32m     94\u001b[39m \u001b[43m    \u001b[49m\u001b[43mcollection_id\u001b[49m\u001b[43m=\u001b[49m\u001b[38;5;28;43mself\u001b[39;49m\u001b[43m.\u001b[49m\u001b[43mid\u001b[49m\u001b[43m,\u001b[49m\n\u001b[32m     95\u001b[39m \u001b[43m    \u001b[49m\u001b[43mids\u001b[49m\u001b[43m=\u001b[49m\u001b[43madd_request\u001b[49m\u001b[43m[\u001b[49m\u001b[33;43m\"\u001b[39;49m\u001b[33;43mids\u001b[39;49m\u001b[33;43m\"\u001b[39;49m\u001b[43m]\u001b[49m\u001b[43m,\u001b[49m\n\u001b[32m     96\u001b[39m \u001b[43m    \u001b[49m\u001b[43membeddings\u001b[49m\u001b[43m=\u001b[49m\u001b[43madd_request\u001b[49m\u001b[43m[\u001b[49m\u001b[33;43m\"\u001b[39;49m\u001b[33;43membeddings\u001b[39;49m\u001b[33;43m\"\u001b[39;49m\u001b[43m]\u001b[49m\u001b[43m,\u001b[49m\n\u001b[32m     97\u001b[39m \u001b[43m    \u001b[49m\u001b[43mmetadatas\u001b[49m\u001b[43m=\u001b[49m\u001b[43madd_request\u001b[49m\u001b[43m[\u001b[49m\u001b[33;43m\"\u001b[39;49m\u001b[33;43mmetadatas\u001b[39;49m\u001b[33;43m\"\u001b[39;49m\u001b[43m]\u001b[49m\u001b[43m,\u001b[49m\n\u001b[32m     98\u001b[39m \u001b[43m    \u001b[49m\u001b[43mdocuments\u001b[49m\u001b[43m=\u001b[49m\u001b[43madd_request\u001b[49m\u001b[43m[\u001b[49m\u001b[33;43m\"\u001b[39;49m\u001b[33;43mdocuments\u001b[39;49m\u001b[33;43m\"\u001b[39;49m\u001b[43m]\u001b[49m\u001b[43m,\u001b[49m\n\u001b[32m     99\u001b[39m \u001b[43m    \u001b[49m\u001b[43muris\u001b[49m\u001b[43m=\u001b[49m\u001b[43madd_request\u001b[49m\u001b[43m[\u001b[49m\u001b[33;43m\"\u001b[39;49m\u001b[33;43muris\u001b[39;49m\u001b[33;43m\"\u001b[39;49m\u001b[43m]\u001b[49m\u001b[43m,\u001b[49m\n\u001b[32m    100\u001b[39m \u001b[43m    \u001b[49m\u001b[43mtenant\u001b[49m\u001b[43m=\u001b[49m\u001b[38;5;28;43mself\u001b[39;49m\u001b[43m.\u001b[49m\u001b[43mtenant\u001b[49m\u001b[43m,\u001b[49m\n\u001b[32m    101\u001b[39m \u001b[43m    \u001b[49m\u001b[43mdatabase\u001b[49m\u001b[43m=\u001b[49m\u001b[38;5;28;43mself\u001b[39;49m\u001b[43m.\u001b[49m\u001b[43mdatabase\u001b[49m\u001b[43m,\u001b[49m\n\u001b[32m    102\u001b[39m \u001b[43m\u001b[49m\u001b[43m)\u001b[49m\n",
      "\u001b[36mFile \u001b[39m\u001b[32m~/Projects/py/hackhaton_lab/.venv/lib/python3.13/site-packages/chromadb/api/rust.py:421\u001b[39m, in \u001b[36mRustBindingsAPI._add\u001b[39m\u001b[34m(self, ids, collection_id, embeddings, metadatas, documents, uris, tenant, database)\u001b[39m\n\u001b[32m    399\u001b[39m \u001b[38;5;129m@override\u001b[39m\n\u001b[32m    400\u001b[39m \u001b[38;5;28;01mdef\u001b[39;00m\u001b[38;5;250m \u001b[39m\u001b[34m_add\u001b[39m(\n\u001b[32m    401\u001b[39m     \u001b[38;5;28mself\u001b[39m,\n\u001b[32m   (...)\u001b[39m\u001b[32m    409\u001b[39m     database: \u001b[38;5;28mstr\u001b[39m = DEFAULT_DATABASE,\n\u001b[32m    410\u001b[39m ) -> \u001b[38;5;28mbool\u001b[39m:\n\u001b[32m    411\u001b[39m     \u001b[38;5;28mself\u001b[39m.product_telemetry_client.capture(\n\u001b[32m    412\u001b[39m         CollectionAddEvent(\n\u001b[32m    413\u001b[39m             collection_uuid=\u001b[38;5;28mstr\u001b[39m(collection_id),\n\u001b[32m   (...)\u001b[39m\u001b[32m    418\u001b[39m         )\n\u001b[32m    419\u001b[39m     )\n\u001b[32m--> \u001b[39m\u001b[32m421\u001b[39m     \u001b[38;5;28;01mreturn\u001b[39;00m \u001b[38;5;28;43mself\u001b[39;49m\u001b[43m.\u001b[49m\u001b[43mbindings\u001b[49m\u001b[43m.\u001b[49m\u001b[43madd\u001b[49m\u001b[43m(\u001b[49m\n\u001b[32m    422\u001b[39m \u001b[43m        \u001b[49m\u001b[43mids\u001b[49m\u001b[43m,\u001b[49m\n\u001b[32m    423\u001b[39m \u001b[43m        \u001b[49m\u001b[38;5;28;43mstr\u001b[39;49m\u001b[43m(\u001b[49m\u001b[43mcollection_id\u001b[49m\u001b[43m)\u001b[49m\u001b[43m,\u001b[49m\n\u001b[32m    424\u001b[39m \u001b[43m        \u001b[49m\u001b[43membeddings\u001b[49m\u001b[43m,\u001b[49m\n\u001b[32m    425\u001b[39m \u001b[43m        \u001b[49m\u001b[43mmetadatas\u001b[49m\u001b[43m,\u001b[49m\n\u001b[32m    426\u001b[39m \u001b[43m        \u001b[49m\u001b[43mdocuments\u001b[49m\u001b[43m,\u001b[49m\n\u001b[32m    427\u001b[39m \u001b[43m        \u001b[49m\u001b[43muris\u001b[49m\u001b[43m,\u001b[49m\n\u001b[32m    428\u001b[39m \u001b[43m        \u001b[49m\u001b[43mtenant\u001b[49m\u001b[43m,\u001b[49m\n\u001b[32m    429\u001b[39m \u001b[43m        \u001b[49m\u001b[43mdatabase\u001b[49m\u001b[43m,\u001b[49m\n\u001b[32m    430\u001b[39m \u001b[43m    \u001b[49m\u001b[43m)\u001b[49m\n",
      "\u001b[31mTypeError\u001b[39m: argument 'embeddings': 'dict' object cannot be converted to 'Sequence'"
     ]
    }
   ],
   "source": [
    "ids: list[str] = df[\"title\"].to_list() #df.index.astype(\"str\").to_list()\n",
    "documents: list[str] = df[\"url_text\"].to_list()\n",
    "\n",
    "# NOT WOKRING: WHY?\n",
    "bm_25_collection.add(\n",
    "    ids=ids,\n",
    "    documents=documents,\n",
    ")"
   ]
  }
 ],
 "metadata": {
  "kernelspec": {
   "display_name": "Python 3 (ipykernel)",
   "language": "python",
   "name": "python3"
  },
  "language_info": {
   "codemirror_mode": {
    "name": "ipython",
    "version": 3
   },
   "file_extension": ".py",
   "mimetype": "text/x-python",
   "name": "python",
   "nbconvert_exporter": "python",
   "pygments_lexer": "ipython3",
   "version": "3.13.2"
  }
 },
 "nbformat": 4,
 "nbformat_minor": 5
}

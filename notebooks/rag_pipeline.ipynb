{
 "cells": [
  {
   "cell_type": "markdown",
   "id": "21d38dfa-2875-4058-9a65-a632356beffe",
   "metadata": {},
   "source": [
    "# RAG Pipeline\n",
    "\n",
    "This notebook is our pipeline to transform the various websites around CS to text and put them in the vector store."
   ]
  },
  {
   "cell_type": "code",
   "execution_count": 1,
   "id": "413939ea-f8e9-4792-8aed-67d4a98de8f5",
   "metadata": {},
   "outputs": [
    {
     "data": {
      "text/plain": [
       "True"
      ]
     },
     "execution_count": 1,
     "metadata": {},
     "output_type": "execute_result"
    }
   ],
   "source": [
    "import chromadb\n",
    "from chromadb.utils.embedding_functions import Bm25EmbeddingFunction, DefaultEmbeddingFunction, HuggingFaceEmbeddingFunction\n",
    "from chromadb import Documents, EmbeddingFunction, Embeddings\n",
    "from dotenv import load_dotenv\n",
    "import requests\n",
    "from bs4 import BeautifulSoup\n",
    "import pandas as pd\n",
    "import numpy as np\n",
    "import os \n",
    "\n",
    "load_dotenv()"
   ]
  },
  {
   "cell_type": "code",
   "execution_count": 2,
   "id": "dbaf28e9-00c5-4375-b6ff-4ec1159b8460",
   "metadata": {},
   "outputs": [
    {
     "data": {
      "text/html": [
       "<div>\n",
       "<style scoped>\n",
       "    .dataframe tbody tr th:only-of-type {\n",
       "        vertical-align: middle;\n",
       "    }\n",
       "\n",
       "    .dataframe tbody tr th {\n",
       "        vertical-align: top;\n",
       "    }\n",
       "\n",
       "    .dataframe thead th {\n",
       "        text-align: right;\n",
       "    }\n",
       "</style>\n",
       "<table border=\"1\" class=\"dataframe\">\n",
       "  <thead>\n",
       "    <tr style=\"text-align: right;\">\n",
       "      <th></th>\n",
       "      <th>id</th>\n",
       "      <th>name</th>\n",
       "      <th>type</th>\n",
       "      <th>documentation_link</th>\n",
       "      <th>description</th>\n",
       "      <th>info_status</th>\n",
       "      <th>logo_url</th>\n",
       "      <th>last_updated_at</th>\n",
       "      <th>max_token_input</th>\n",
       "      <th>version</th>\n",
       "      <th>meta</th>\n",
       "    </tr>\n",
       "  </thead>\n",
       "  <tbody>\n",
       "    <tr>\n",
       "      <th>6</th>\n",
       "      <td>12</td>\n",
       "      <td>bge_multilingual_gemma2</td>\n",
       "      <td>embedding</td>\n",
       "      <td>https://developer.infomaniak.com/docs/api/post...</td>\n",
       "      <td>Bge Multilingual Gemma2</td>\n",
       "      <td>coming_soon</td>\n",
       "      <td>https://storage4.infomaniak.com/ai-tools/publi...</td>\n",
       "      <td>2024-12-04</td>\n",
       "      <td>8000.0</td>\n",
       "      <td>1.0</td>\n",
       "      <td>{'is_beta': False}</td>\n",
       "    </tr>\n",
       "    <tr>\n",
       "      <th>7</th>\n",
       "      <td>13</td>\n",
       "      <td>mini_lm_l12_v2</td>\n",
       "      <td>embedding</td>\n",
       "      <td>https://developer.infomaniak.com/docs/api/post...</td>\n",
       "      <td>All MiniLM L12 v2</td>\n",
       "      <td>coming_soon</td>\n",
       "      <td>https://storage4.infomaniak.com/ai-tools/publi...</td>\n",
       "      <td>2024-12-04</td>\n",
       "      <td>128.0</td>\n",
       "      <td>2.0</td>\n",
       "      <td>{'is_beta': False}</td>\n",
       "    </tr>\n",
       "  </tbody>\n",
       "</table>\n",
       "</div>"
      ],
      "text/plain": [
       "   id                     name       type  \\\n",
       "6  12  bge_multilingual_gemma2  embedding   \n",
       "7  13           mini_lm_l12_v2  embedding   \n",
       "\n",
       "                                  documentation_link              description  \\\n",
       "6  https://developer.infomaniak.com/docs/api/post...  Bge Multilingual Gemma2   \n",
       "7  https://developer.infomaniak.com/docs/api/post...        All MiniLM L12 v2   \n",
       "\n",
       "   info_status                                           logo_url  \\\n",
       "6  coming_soon  https://storage4.infomaniak.com/ai-tools/publi...   \n",
       "7  coming_soon  https://storage4.infomaniak.com/ai-tools/publi...   \n",
       "\n",
       "  last_updated_at  max_token_input version                meta  \n",
       "6      2024-12-04           8000.0     1.0  {'is_beta': False}  \n",
       "7      2024-12-04            128.0     2.0  {'is_beta': False}  "
      ]
     },
     "execution_count": 2,
     "metadata": {},
     "output_type": "execute_result"
    }
   ],
   "source": [
    "URL = \"https://api.infomaniak.com/1/ai/models\"\n",
    "headers = {\n",
    "  'Authorization': f'Bearer {os.getenv(\"API_TOKEN\")}',\n",
    "  'Content-Type': 'application/json',\n",
    "}\n",
    "req = requests.request(\"GET\", url = URL , headers = headers)\n",
    "res = req.json()\n",
    "\n",
    "info_df = pd.DataFrame(res[\"data\"])\n",
    "info_df[info_df[\"type\"] == \"embedding\"]"
   ]
  },
  {
   "cell_type": "markdown",
   "id": "9b87ba2c-1190-4ddb-ad58-0fdf097fc434",
   "metadata": {},
   "source": [
    "## 1. Data Processing: Conver HTML to Text\n",
    "\n",
    "using beautifulSoup and simple get request, we collect the data from websites."
   ]
  },
  {
   "cell_type": "code",
   "execution_count": 3,
   "id": "958c47e0-3c85-4690-a0e2-d9b50c9f558d",
   "metadata": {},
   "outputs": [
    {
     "name": "stdout",
     "output_type": "stream",
     "text": [
      "Number of chars: 30161\n",
      "Number of words: 3883\n"
     ]
    }
   ],
   "source": [
    "# needed to pretend I am a normal user ;)\n",
    "HEADERS = {\n",
    "    'User-Agent': 'Mozilla/5.0 (Macintosh; Intel Mac OS X 10_11_5) AppleWebKit/537.36 (KHTML, like Gecko) Chrome/50.0.2661.102 Safari/537.36'\n",
    "}\n",
    "\n",
    "def url_to_string(url: str) -> str:\n",
    "    if not url.startswith(\"https://\"):\n",
    "        url = \"https://\" + url\n",
    "    \n",
    "    res = requests.get(url, headers=HEADERS)\n",
    "    res.raise_for_status()\n",
    "\n",
    "    soup = BeautifulSoup(res.text, \"html.parser\")\n",
    "    site_text = \" \".join([text for text in soup.stripped_strings])\n",
    "    return site_text\n",
    "\n",
    "\n",
    "demo_url = \"www.orientation.ch/dyn/show/1900?id=152\"\n",
    "site_text = url_to_string(demo_url)\n",
    "\n",
    "print(\"Number of chars:\", len(site_text))\n",
    "print(\"Number of words:\", len(site_text.split()))"
   ]
  },
  {
   "cell_type": "code",
   "execution_count": 4,
   "id": "1a7dfa16-01bc-435d-8632-cd290f669aa8",
   "metadata": {},
   "outputs": [],
   "source": [
    "df = pd.read_csv(\"../data/links.csv\")\n",
    "\n",
    "df = df.drop(columns=\"verified\")\n",
    "\n",
    "url_list = df[\"url\"].to_list()\n",
    "url_text_list = [url_to_string(url) for url in url_list]\n",
    "\n",
    "assert len(df[\"url\"]) == len(url_text_list), \"not the same number of sites and web pages scraped!\""
   ]
  },
  {
   "cell_type": "code",
   "execution_count": 5,
   "id": "96f6beb1-83d3-4afa-9470-38e931cbca79",
   "metadata": {},
   "outputs": [
    {
     "data": {
      "text/html": [
       "<div>\n",
       "<style scoped>\n",
       "    .dataframe tbody tr th:only-of-type {\n",
       "        vertical-align: middle;\n",
       "    }\n",
       "\n",
       "    .dataframe tbody tr th {\n",
       "        vertical-align: top;\n",
       "    }\n",
       "\n",
       "    .dataframe thead th {\n",
       "        text-align: right;\n",
       "    }\n",
       "</style>\n",
       "<table border=\"1\" class=\"dataframe\">\n",
       "  <thead>\n",
       "    <tr style=\"text-align: right;\">\n",
       "      <th></th>\n",
       "      <th>title</th>\n",
       "      <th>url</th>\n",
       "      <th>type</th>\n",
       "      <th>url_text</th>\n",
       "    </tr>\n",
       "  </thead>\n",
       "  <tbody>\n",
       "    <tr>\n",
       "      <th>0</th>\n",
       "      <td>informaticien cfc suisse</td>\n",
       "      <td>www.orientation.ch/dyn/show/1900?id=152</td>\n",
       "      <td>apprentissage</td>\n",
       "      <td>Informaticien CFC / Informaticienne CFC - orie...</td>\n",
       "    </tr>\n",
       "    <tr>\n",
       "      <th>1</th>\n",
       "      <td>école techniques des métiers de Lausanne</td>\n",
       "      <td>https://www.etml.ch/formation/em/informaticien...</td>\n",
       "      <td>école professionelle</td>\n",
       "      <td>Apprentissage d'informaticien·ne - ETML Nous u...</td>\n",
       "    </tr>\n",
       "    <tr>\n",
       "      <th>2</th>\n",
       "      <td>école des métiers Fribourg</td>\n",
       "      <td>https://emf.ch/formation/informaticien-ne-cfc</td>\n",
       "      <td>école professionelle</td>\n",
       "      <td>Informaticien-ne CFC · Ecole des Métiers Fribo...</td>\n",
       "    </tr>\n",
       "    <tr>\n",
       "      <th>3</th>\n",
       "      <td>centre professionel du Nord Vaudois</td>\n",
       "      <td>https://www.cpnv.ch/formations/ecole-metiers/i...</td>\n",
       "      <td>école professionelle</td>\n",
       "      <td>Informaticien-ne CFC - CPNV Aller au contenu M...</td>\n",
       "    </tr>\n",
       "    <tr>\n",
       "      <th>4</th>\n",
       "      <td>université de fribourg</td>\n",
       "      <td>www.unifr.ch/inf/fr/informatique</td>\n",
       "      <td>université</td>\n",
       "      <td>Informatique | Département d'informatique  | U...</td>\n",
       "    </tr>\n",
       "  </tbody>\n",
       "</table>\n",
       "</div>"
      ],
      "text/plain": [
       "                                      title  \\\n",
       "0                  informaticien cfc suisse   \n",
       "1  école techniques des métiers de Lausanne   \n",
       "2                école des métiers Fribourg   \n",
       "3       centre professionel du Nord Vaudois   \n",
       "4                    université de fribourg   \n",
       "\n",
       "                                                 url                  type  \\\n",
       "0            www.orientation.ch/dyn/show/1900?id=152         apprentissage   \n",
       "1  https://www.etml.ch/formation/em/informaticien...  école professionelle   \n",
       "2      https://emf.ch/formation/informaticien-ne-cfc  école professionelle   \n",
       "3  https://www.cpnv.ch/formations/ecole-metiers/i...  école professionelle   \n",
       "4                   www.unifr.ch/inf/fr/informatique            université   \n",
       "\n",
       "                                            url_text  \n",
       "0  Informaticien CFC / Informaticienne CFC - orie...  \n",
       "1  Apprentissage d'informaticien·ne - ETML Nous u...  \n",
       "2  Informaticien-ne CFC · Ecole des Métiers Fribo...  \n",
       "3  Informaticien-ne CFC - CPNV Aller au contenu M...  \n",
       "4  Informatique | Département d'informatique  | U...  "
      ]
     },
     "execution_count": 5,
     "metadata": {},
     "output_type": "execute_result"
    }
   ],
   "source": [
    "df[\"url_text\"] = url_text_list\n",
    "df.head()"
   ]
  },
  {
   "cell_type": "code",
   "execution_count": 9,
   "id": "54ef027d-1ea5-42b5-a123-4e2b8f827885",
   "metadata": {},
   "outputs": [],
   "source": [
    "PRODUCT_ID = os.getenv(\"PRODUCT_ID\")\n",
    "API_TOKEN = os.getenv(\"API_TOKEN\")\n",
    "\n",
    "BASE_URL = f\"https://api.infomaniak.com/1/ai/{PRODUCT_ID}/openai/chat/completions\"\n",
    "HEADERS = {\n",
    "    \"Authorization\": f\"Bearer {API_TOKEN}\",\n",
    "    \"Content-Type\": \"application/json\"\n",
    "}\n",
    "\n",
    "def summarize_documents(document: str) -> str:\n",
    "    messages = [\n",
    "            {\"role\": \"system\", \"content\": \"ton objectif est de résumer et condenser ces sites web en 400 à 500 mots. Tu dois éxtraire les informations importantes qui décrivent les différentes professions, formations, critères d'entrées et diplomes obtenus. N'oublie pas l'âge et public cibles de ces différentes formations. Ces résumés seront ensuite utilisé dans un RAG pour un autre LLM. Donne moi directement le résumé, n'utilise pas de formatage\"},\n",
    "            {\"role\": \"user\", \"content\": document},\n",
    "    ]\n",
    "    \n",
    "    payload = {\n",
    "            \"model\": \"qwen3\",\n",
    "            \"messages\": messages,\n",
    "            \"temperature\": 0.4,\n",
    "            #\"max_tokens\": 1000,\n",
    "    }\n",
    "    \n",
    "    resp = requests.post(url=BASE_URL, json=payload, headers=HEADERS)\n",
    "    result = resp.json()\n",
    "    return result[\"choices\"][0][\"message\"][\"content\"]"
   ]
  },
  {
   "cell_type": "code",
   "execution_count": 10,
   "id": "800d9ed1-650f-410e-b36a-694250f66f6a",
   "metadata": {},
   "outputs": [
    {
     "name": "stdout",
     "output_type": "stream",
     "text": [
      "[1|25]\n",
      "[2|25]\n",
      "[3|25]\n",
      "[4|25]\n",
      "[5|25]\n",
      "[6|25]\n",
      "[7|25]\n",
      "[8|25]\n",
      "[9|25]\n",
      "[10|25]\n",
      "[11|25]\n",
      "[12|25]\n",
      "[13|25]\n",
      "[14|25]\n",
      "[15|25]\n",
      "[16|25]\n",
      "[17|25]\n",
      "[18|25]\n",
      "[19|25]\n",
      "[20|25]\n",
      "[21|25]\n",
      "[22|25]\n",
      "[23|25]\n",
      "[24|25]\n",
      "[25|25]\n"
     ]
    }
   ],
   "source": [
    "total = len(df)\n",
    "\n",
    "docs = []\n",
    "for idx in df.index:\n",
    "    print(f\"[{idx + 1}|{total}]\")\n",
    "    \n",
    "    row = df.iloc[idx]\n",
    "    input_seq = \": \".join(row.loc[[\"title\", \"url_text\"]].to_list())\n",
    "\n",
    "    out = summarize_documents(input_seq)\n",
    "    docs.append(out)"
   ]
  },
  {
   "cell_type": "code",
   "execution_count": 14,
   "id": "e2c247d0-6e64-468c-ab1e-c27048de4b6d",
   "metadata": {},
   "outputs": [],
   "source": [
    "df[\"text_summary\"] = docs"
   ]
  },
  {
   "cell_type": "code",
   "execution_count": 15,
   "id": "fc9743b8-8fdc-4725-8617-6fb648636c48",
   "metadata": {},
   "outputs": [
    {
     "data": {
      "text/html": [
       "<div>\n",
       "<style scoped>\n",
       "    .dataframe tbody tr th:only-of-type {\n",
       "        vertical-align: middle;\n",
       "    }\n",
       "\n",
       "    .dataframe tbody tr th {\n",
       "        vertical-align: top;\n",
       "    }\n",
       "\n",
       "    .dataframe thead th {\n",
       "        text-align: right;\n",
       "    }\n",
       "</style>\n",
       "<table border=\"1\" class=\"dataframe\">\n",
       "  <thead>\n",
       "    <tr style=\"text-align: right;\">\n",
       "      <th></th>\n",
       "      <th>title</th>\n",
       "      <th>url</th>\n",
       "      <th>type</th>\n",
       "      <th>url_text</th>\n",
       "      <th>text_summary</th>\n",
       "    </tr>\n",
       "  </thead>\n",
       "  <tbody>\n",
       "    <tr>\n",
       "      <th>0</th>\n",
       "      <td>informaticien cfc suisse</td>\n",
       "      <td>www.orientation.ch/dyn/show/1900?id=152</td>\n",
       "      <td>apprentissage</td>\n",
       "      <td>Informaticien CFC / Informaticienne CFC - orie...</td>\n",
       "      <td>L’informaticien CFC ou informaticienne CFC est...</td>\n",
       "    </tr>\n",
       "    <tr>\n",
       "      <th>1</th>\n",
       "      <td>école techniques des métiers de Lausanne</td>\n",
       "      <td>https://www.etml.ch/formation/em/informaticien...</td>\n",
       "      <td>école professionelle</td>\n",
       "      <td>Apprentissage d'informaticien·ne - ETML Nous u...</td>\n",
       "      <td>L’École technique des métiers de Lausanne (ETM...</td>\n",
       "    </tr>\n",
       "    <tr>\n",
       "      <th>2</th>\n",
       "      <td>école des métiers Fribourg</td>\n",
       "      <td>https://emf.ch/formation/informaticien-ne-cfc</td>\n",
       "      <td>école professionelle</td>\n",
       "      <td>Informaticien-ne CFC · Ecole des Métiers Fribo...</td>\n",
       "      <td>L’École des Métiers de Fribourg (EMF) propose ...</td>\n",
       "    </tr>\n",
       "    <tr>\n",
       "      <th>3</th>\n",
       "      <td>centre professionel du Nord Vaudois</td>\n",
       "      <td>https://www.cpnv.ch/formations/ecole-metiers/i...</td>\n",
       "      <td>école professionelle</td>\n",
       "      <td>Informaticien-ne CFC - CPNV Aller au contenu M...</td>\n",
       "      <td>Le Centre professionnel du Nord Vaudois (CPNV)...</td>\n",
       "    </tr>\n",
       "    <tr>\n",
       "      <th>4</th>\n",
       "      <td>université de fribourg</td>\n",
       "      <td>www.unifr.ch/inf/fr/informatique</td>\n",
       "      <td>université</td>\n",
       "      <td>Informatique | Département d'informatique  | U...</td>\n",
       "      <td>L’Université de Fribourg propose un cursus com...</td>\n",
       "    </tr>\n",
       "  </tbody>\n",
       "</table>\n",
       "</div>"
      ],
      "text/plain": [
       "                                      title  \\\n",
       "0                  informaticien cfc suisse   \n",
       "1  école techniques des métiers de Lausanne   \n",
       "2                école des métiers Fribourg   \n",
       "3       centre professionel du Nord Vaudois   \n",
       "4                    université de fribourg   \n",
       "\n",
       "                                                 url                  type  \\\n",
       "0            www.orientation.ch/dyn/show/1900?id=152         apprentissage   \n",
       "1  https://www.etml.ch/formation/em/informaticien...  école professionelle   \n",
       "2      https://emf.ch/formation/informaticien-ne-cfc  école professionelle   \n",
       "3  https://www.cpnv.ch/formations/ecole-metiers/i...  école professionelle   \n",
       "4                   www.unifr.ch/inf/fr/informatique            université   \n",
       "\n",
       "                                            url_text  \\\n",
       "0  Informaticien CFC / Informaticienne CFC - orie...   \n",
       "1  Apprentissage d'informaticien·ne - ETML Nous u...   \n",
       "2  Informaticien-ne CFC · Ecole des Métiers Fribo...   \n",
       "3  Informaticien-ne CFC - CPNV Aller au contenu M...   \n",
       "4  Informatique | Département d'informatique  | U...   \n",
       "\n",
       "                                        text_summary  \n",
       "0  L’informaticien CFC ou informaticienne CFC est...  \n",
       "1  L’École technique des métiers de Lausanne (ETM...  \n",
       "2  L’École des Métiers de Fribourg (EMF) propose ...  \n",
       "3  Le Centre professionnel du Nord Vaudois (CPNV)...  \n",
       "4  L’Université de Fribourg propose un cursus com...  "
      ]
     },
     "execution_count": 15,
     "metadata": {},
     "output_type": "execute_result"
    }
   ],
   "source": [
    "df.head()"
   ]
  },
  {
   "cell_type": "code",
   "execution_count": 55,
   "id": "f04571a6-51d1-4b2f-9f79-191b34c9f604",
   "metadata": {},
   "outputs": [],
   "source": [
    "df.to_csv(\"../data/processed-links.csv\", header=True, index=False)"
   ]
  },
  {
   "cell_type": "markdown",
   "id": "7796918a-f81b-4dd7-a556-ef1a44f2cb6d",
   "metadata": {
    "jp-MarkdownHeadingCollapsed": true
   },
   "source": [
    "# 2. RAG Benchmark\n",
    "\n",
    "First two models are on infomaniak.\n",
    "The rest we will need to train ourselves by getting the model with a GPU.\n",
    "\n",
    "|evaluate? | Model name | Link |\n",
    "|:--------:|------------|------|\n",
    "| |MiniLM L12 v2 | https://developer.infomaniak.com/docs/api/post/1/ai/%7Bproduct_id%7D/openai/v1/embeddings |\n",
    "| X |BGE Multilingual Gemma 2 | https://developer.infomaniak.com/docs/api/post/1/ai/%7Bproduct_id%7D/openai/v1/embeddings |\n",
    "| X | paraphrase-multilingual-MiniLM-L12-v2 | https://huggingface.co/sentence-transformers/paraphrase-multilingual-MiniLM-L12-v2 |\n",
    "| X | paraphrase-multilingual-mpnet-base-v2 | https://huggingface.co/sentence-transformers/paraphrase-multilingual-mpnet-base-v2 |\n",
    "| X | distiluse-base-multilingual-cased-v2 | https://huggingface.co/sentence-transformers/distiluse-base-multilingual-cased-v2 |\n",
    "|  | Alibaba-NLP/gte-Qwen2-1.5B-instruct | https://huggingface.co/Alibaba-NLP/gte-Qwen2-1.5B-instruct |\n",
    "| X | BM25 | chromadb through `fastembed` | "
   ]
  },
  {
   "cell_type": "code",
   "execution_count": 16,
   "id": "b2b58f04-f6ab-4eb3-aa08-a603aa8a799f",
   "metadata": {},
   "outputs": [
    {
     "name": "stdout",
     "output_type": "stream",
     "text": [
      "hearbeat: 1760225376563814004\n"
     ]
    }
   ],
   "source": [
    "DB_PATH = \"../data/\"\n",
    "\n",
    "client = chromadb.PersistentClient(path=DB_PATH)\n",
    "# ensure the DB is available\n",
    "print(\"hearbeat:\", client.heartbeat())\n",
    "\n",
    "ids: list[str] = df[\"title\"].to_list()\n",
    "# switch here for the column you want to use\n",
    "documents: list[str] = df[\"text_summary\"].to_list()\n",
    "metadatas: list[dict[str, str]] = df.loc[:, [\"title\", \"type\", \"url\"]].to_dict(\"records\")"
   ]
  },
  {
   "cell_type": "markdown",
   "id": "1390312b-944f-4e55-86af-17bcd22322b8",
   "metadata": {},
   "source": [
    "## Infomaniak Model: MultiLingual Gemma 2 and MiniLM-L12-v2\n",
    "\n",
    "The latter is english only, we should not evaluate it."
   ]
  },
  {
   "cell_type": "code",
   "execution_count": null,
   "id": "203702ec-91d2-401f-9290-0bdf08f22b21",
   "metadata": {},
   "outputs": [],
   "source": [
    "PRODUCT_ID = os.getenv(\"PRODUCT_ID\")\n",
    "API_TOKEN = os.getenv(\"API_TOKEN\")\n",
    "\n",
    "URL = f\"https://api.infomaniak.com/1/ai/{PRODUCT_ID}/openai/v1/embeddings\"\n",
    "\n",
    "headers = {\n",
    "  'Authorization': f\"Bearer {API_TOKEN}\",\n",
    "  'Content-Type': 'application/json',\n",
    "}\n",
    "\n",
    "payload = {\n",
    "    \"input\": documents,\n",
    "    \"model\": \"bge_multilingual_gemma2\",\n",
    "    \"mode\": \"index\",\n",
    "}\n",
    "\n",
    "req = requests.post(url=URL , json=payload, headers=headers)\n",
    "res = req.json()\n",
    "print(req.status_code)\n",
    "\n",
    "assert len(documents) == len(res[\"data\"])"
   ]
  },
  {
   "cell_type": "code",
   "execution_count": null,
   "id": "1119c7d5-d467-4cbe-bd94-9012b9a567c1",
   "metadata": {},
   "outputs": [],
   "source": [
    "PRODUCT_ID = os.getenv(\"PRODUCT_ID\")\n",
    "API_TOKEN = os.getenv(\"API_TOKEN\")\n",
    "\n",
    "\n",
    "class MultinligualGemma2(EmbeddingFunction):\n",
    "    def __init__(self) -> None:\n",
    "        self.model_name = \"bge_multilingual_gemma2\"\n",
    "        self.url = f\"https://api.infomaniak.com/1/ai/{PRODUCT_ID}/openai/v1/embeddings\"\n",
    "        self.headers = {\n",
    "          'Authorization': f\"Bearer {API_TOKEN}\",\n",
    "          'Content-Type': 'application/json',\n",
    "        }\n",
    "        \n",
    "    def __call__(self, input_data: Documents) -> Embeddings:\n",
    "        payload = {\n",
    "            \"input\": input_data,\n",
    "            \"model\": self.model_name,\n",
    "        }\n",
    "\n",
    "        req = requests.post(url=self.url, json=payload, headers=self.headers)\n",
    "        res = req.json()\n",
    "        data = res[\"data\"]\n",
    "        embeddings = [np.array(x[\"embedding\"]) for x in data]\n",
    "        \n",
    "        return embeddings\n",
    "\n",
    "\n",
    "# Do not evaluate this one\n",
    "class MiniLML12V2(EmbeddingFunction):\n",
    "    def __init__(self) -> None:\n",
    "        self.model_name = \"mini_lm_l12_v2\"\n",
    "        self.url = f\"https://api.infomaniak.com/1/ai/{PRODUCT_ID}/openai/v1/embeddings\"\n",
    "        self.headers = {\n",
    "          'Authorization': f\"Bearer {API_TOKEN}\",\n",
    "          'Content-Type': 'application/json',\n",
    "        }\n",
    "        \n",
    "    def __call__(self, input_data: Documents) -> Embeddings:\n",
    "        payload = {\n",
    "            \"input\": input_data,\n",
    "            \"model\": self.model_name,\n",
    "        }\n",
    "\n",
    "        req = requests.post(url=self.url, json=payload, headers=self.headers)\n",
    "        res = req.json()\n",
    "        data = res[\"data\"]\n",
    "        embeddings = [np.array(x[\"embedding\"]) for x in data]\n",
    "        \n",
    "        return embeddings"
   ]
  },
  {
   "cell_type": "code",
   "execution_count": null,
   "id": "54f47f8a-aecb-43f7-86ec-b69131d1d336",
   "metadata": {},
   "outputs": [],
   "source": [
    "multilingual_gemma2_collection = client.get_or_create_collection(\n",
    "    name=\"multilingual-gemma2\",\n",
    "    embedding_function=MultinligualGemma2()\n",
    ")\n",
    "\n",
    "print(multilingual_gemma2_collection)\n",
    "print(multilingual_gemma2_collection._embedding_function)"
   ]
  },
  {
   "cell_type": "code",
   "execution_count": null,
   "id": "5febfbdf-e95a-4aee-8a8b-096352763c29",
   "metadata": {},
   "outputs": [],
   "source": [
    "df.head()"
   ]
  },
  {
   "cell_type": "code",
   "execution_count": null,
   "id": "2da32200-7477-4b66-aaf7-c66a8dbbb9cc",
   "metadata": {},
   "outputs": [],
   "source": [
    "multilingual_gemma2_collection.add(\n",
    "    ids=ids,\n",
    "    metadatas=metadatas,\n",
    "    documents=documents,\n",
    ")"
   ]
  },
  {
   "cell_type": "code",
   "execution_count": null,
   "id": "55cb6eec-5030-4710-8273-b87e18bacfa2",
   "metadata": {},
   "outputs": [],
   "source": [
    "multilingual_gemma2_collection.count()"
   ]
  },
  {
   "cell_type": "code",
   "execution_count": null,
   "id": "bd0789a9-48c6-459e-88d2-8798f4869d35",
   "metadata": {},
   "outputs": [],
   "source": [
    "results = multilingual_gemma2_collection.query(\n",
    "    query_texts=[\"j'aimerais faire l'université\"],\n",
    "    n_results=5,\n",
    ")   \n",
    "\n",
    "results[\"ids\"]"
   ]
  },
  {
   "cell_type": "markdown",
   "id": "7e9d2547-d095-41a3-afa8-1001388fc0fb",
   "metadata": {},
   "source": [
    "## BM25 "
   ]
  },
  {
   "cell_type": "code",
   "execution_count": null,
   "id": "e56305d0-770d-4677-99ff-070797a3fd93",
   "metadata": {},
   "outputs": [],
   "source": [
    "bm_25_collection = client.get_or_create_collection(\n",
    "    name=\"bm25\",\n",
    "    embedding_function=Bm25EmbeddingFunction()\n",
    ")\n",
    "\n",
    "print(bm_25_collection)\n",
    "print(bm_25_collection._embedding_function)"
   ]
  },
  {
   "cell_type": "code",
   "execution_count": null,
   "id": "2cb272d5-29ba-49ef-948d-0b106fc88b57",
   "metadata": {
    "scrolled": true
   },
   "outputs": [],
   "source": [
    "ids: list[str] = df[\"title\"].to_list() #df.index.astype(\"str\").to_list()\n",
    "documents: list[str] = df[\"url_text\"].to_list()\n",
    "\n",
    "# NOT WOKRING: WHY?\n",
    "bm_25_collection.add(\n",
    "    ids=ids,\n",
    "    documents=documents,\n",
    ")"
   ]
  },
  {
   "cell_type": "markdown",
   "id": "3cc62352-4662-4769-b9c0-4984b83b6bb8",
   "metadata": {},
   "source": [
    "## Sentence Transformer\n",
    "\n",
    "For all the HugginFace model."
   ]
  },
  {
   "cell_type": "code",
   "execution_count": 20,
   "id": "15d74c97-4fe5-433a-977b-34ad67ad7128",
   "metadata": {},
   "outputs": [],
   "source": [
    "from sentence_transformers import SentenceTransformer\n",
    "\n",
    "# model we are interested in \n",
    "mini_lm_l12 = \"sentence-transformers/paraphrase-multilingual-MiniLM-L12-v2\" # 118M\n",
    "mpnet_base = \"sentence-transformers/paraphrase-multilingual-mpnet-base-v2\" # 278M\n",
    "distule_base = \"sentence-transformers/distiluse-base-multilingual-cased-v2\" # 135M"
   ]
  },
  {
   "cell_type": "code",
   "execution_count": 21,
   "id": "00811686-865a-4434-a2c3-8e3d9a32800d",
   "metadata": {},
   "outputs": [
    {
     "name": "stderr",
     "output_type": "stream",
     "text": [
      "/home/matt/Projects/py/hackhaton_lab/.venv/lib/python3.13/site-packages/tqdm/auto.py:21: TqdmWarning: IProgress not found. Please update jupyter and ipywidgets. See https://ipywidgets.readthedocs.io/en/stable/user_install.html\n",
      "  from .autonotebook import tqdm as notebook_tqdm\n"
     ]
    },
    {
     "name": "stdout",
     "output_type": "stream",
     "text": [
      "SentenceTransformer(\n",
      "  (0): Transformer({'max_seq_length': 128, 'do_lower_case': False, 'architecture': 'BertModel'})\n",
      "  (1): Pooling({'word_embedding_dimension': 384, 'pooling_mode_cls_token': False, 'pooling_mode_mean_tokens': True, 'pooling_mode_max_tokens': False, 'pooling_mode_mean_sqrt_len_tokens': False, 'pooling_mode_weightedmean_tokens': False, 'pooling_mode_lasttoken': False, 'include_prompt': True})\n",
      ")\n"
     ]
    }
   ],
   "source": [
    "%%time\n",
    "model = SentenceTransformer(mini_lm_l12)\n",
    "print(model)"
   ]
  },
  {
   "cell_type": "code",
   "execution_count": null,
   "id": "7cbc33fb-c943-416f-8111-2efb434e0a82",
   "metadata": {},
   "outputs": [],
   "source": [
    "%%time\n",
    "\n",
    "sentences = [\"yet another sequence to test the model\", \"This is a long sentence to demo how fast the model is and see if we can run it on CPU or maybe we need GPU?\"]\n",
    "embeddings = model.encode(sentences)"
   ]
  },
  {
   "cell_type": "code",
   "execution_count": 43,
   "id": "2ed7c56e-31ee-4a9c-b5d1-3eff00365423",
   "metadata": {},
   "outputs": [
    {
     "data": {
      "text/plain": [
       "'L’École technique des métiers de Lausanne (ETML) propose une formation en apprentissage d’informaticien·ne, destinée à des jeunes âgés d’au moins 15 ans, généralement après la fin de la scolarité obligatoire. Cette formation professionnelle initiale dure 4 ans et combine enseignement théorique à l’école et pratique en entreprise, aboutissant à l’obtention d’un Certificat fédéral de capacité (CFC). Le métier d’informaticien·ne couvre plusieurs spécialisations : développement d’applications, exploitation et infrastructure, ou informaticien·ne d’entreprise, chacune régie par une ordonnance SEFRI spécifique (depuis 2021-2022). Les apprenti·e·s apprennent à planifier, installer, mettre en service et entretenir des systèmes informatiques, des logiciels, des réseaux et des équipements, tout en assurant le support aux utilisateurs. Ils doivent aussi intégrer les aspects ergonomiques et de santé au travail. Le métier s’exerce dans des entreprises variées : banques, assurances, administrations, industrie, télécommunications ou bureaux de services. La formation inclut des stages en entreprise et permet, sous conditions, d’obtenir en parallèle la Maturité professionnelle technique, architecture et sciences de la vie (MPTASV). Pour les élèves souhaitant approfondir leur parcours, des passerelles existent vers des études supérieures : technicien·ne ES en informatique de gestion, ingénieur·e HES, économiste d’entreprise HEG, ou même raccordement à l’EPFL ou à l’université. L’ETML propose aussi des stages d’immersion pour les élèves en phase de choix de formation, organisés principalement au premier semestre. Les conditions d’admission exigent un niveau scolaire suffisant, souvent un diplôme de fin de scolarité obligatoire, et parfois des tests ou entretiens. Les coûts de formation sont généralement couverts par l’employeur en apprentissage, avec des frais modiques pour l’école. L’ETML vise à former des professionnels polyvalents, capables de collaborer avec d’autres métiers techniques et d’évoluer dans un environnement technologique en constante mutation. Les formations sont adaptées aux besoins du marché du travail et favorisent l’insertion professionnelle directe ou la poursuite d’études.'"
      ]
     },
     "execution_count": 43,
     "metadata": {},
     "output_type": "execute_result"
    }
   ],
   "source": [
    "documents[1]"
   ]
  },
  {
   "cell_type": "code",
   "execution_count": 41,
   "id": "df8578b6-c30e-4c39-8bc6-4d976f3b0d6c",
   "metadata": {},
   "outputs": [
    {
     "data": {
      "text/plain": [
       "[336,\n",
       " 297,\n",
       " 338,\n",
       " 319,\n",
       " 353,\n",
       " 316,\n",
       " 354,\n",
       " 416,\n",
       " 380,\n",
       " 375,\n",
       " 291,\n",
       " 344,\n",
       " 312,\n",
       " 360,\n",
       " 318,\n",
       " 281,\n",
       " 343,\n",
       " 327,\n",
       " 358,\n",
       " 340,\n",
       " 363,\n",
       " 344,\n",
       " 356,\n",
       " 352,\n",
       " 386]"
      ]
     },
     "execution_count": 41,
     "metadata": {},
     "output_type": "execute_result"
    }
   ],
   "source": [
    "[len(d.split()) for d in documents]a"
   ]
  },
  {
   "cell_type": "code",
   "execution_count": 22,
   "id": "91b684c7-df06-4001-938e-d583c79d7bb9",
   "metadata": {},
   "outputs": [],
   "source": [
    "class SentenceTransformerFunction(EmbeddingFunction):\n",
    "    def __init__(self, model_name: str) -> None:\n",
    "        self.model_name = model_name\n",
    "        self.model = SentenceTransformer(self.model_name)\n",
    "        \n",
    "    def __call__(self, input_data: Documents) -> Embeddings:\n",
    "        embeddings = self.model.encode(input_data)\n",
    "        return embeddings"
   ]
  },
  {
   "cell_type": "code",
   "execution_count": 23,
   "id": "bf011ab1-93ea-4cf7-a7ba-690f9e1192f3",
   "metadata": {},
   "outputs": [
    {
     "name": "stdout",
     "output_type": "stream",
     "text": [
      "Collection(name=mini_lm_l12)\n",
      "<__main__.SentenceTransformerFunction object at 0x7023123834d0>\n"
     ]
    }
   ],
   "source": [
    "mini_lm_l12_collection = client.get_or_create_collection(\n",
    "    name=\"mini_lm_l12\",\n",
    "    embedding_function=SentenceTransformerFunction(mini_lm_l12),\n",
    ")\n",
    "\n",
    "print(mini_lm_l12_collection)\n",
    "print(mini_lm_l12_collection._embedding_function)"
   ]
  },
  {
   "cell_type": "code",
   "execution_count": 27,
   "id": "fc857c3e-7eae-4f19-b8e6-8a0b1d2b3d47",
   "metadata": {},
   "outputs": [
    {
     "name": "stdout",
     "output_type": "stream",
     "text": [
      "CPU times: user 2.51 s, sys: 105 ms, total: 2.62 s\n",
      "Wall time: 767 ms\n"
     ]
    }
   ],
   "source": [
    "%%time\n",
    "\n",
    "mini_lm_l12_collection.add(\n",
    "    ids=ids,\n",
    "    metadatas=metadatas,\n",
    "    documents=documents,\n",
    ")"
   ]
  },
  {
   "cell_type": "code",
   "execution_count": 44,
   "id": "adf3e2bc-2523-4a56-b05f-c0a04856007b",
   "metadata": {},
   "outputs": [
    {
     "data": {
      "text/plain": [
       "[['haute école spécialisée de suisse occidentale sion apprentissage en informatique',\n",
       "  'centre professionel du Nord Vaudois',\n",
       "  \"haute école d'ingénierie et de gestion du canton de vaud informatique logiciel\",\n",
       "  'université de fribourg',\n",
       "  \"haute école d'ingénierie et de gestion du canton de vaud réseaux et systèmes\",\n",
       "  'liebherr',\n",
       "  'école des métiers Fribourg',\n",
       "  'transport public fribourgeois (TPF)',\n",
       "  'école techniques des métiers de Lausanne',\n",
       "  'informatique université de genève']]"
      ]
     },
     "execution_count": 44,
     "metadata": {},
     "output_type": "execute_result"
    }
   ],
   "source": [
    "results = mini_lm_l12_collection.query(\n",
    "    query_texts=[\"faire un apprentissage cfc en informatique\"],\n",
    "    n_results=10,\n",
    ")   \n",
    "\n",
    "results[\"ids\"]"
   ]
  },
  {
   "cell_type": "code",
   "execution_count": 37,
   "id": "4a23a5df-75a1-4cc0-b431-bdbe9d9f3981",
   "metadata": {
    "scrolled": true
   },
   "outputs": [
    {
     "data": {
      "text/plain": [
       "[['haute école spécialisée de suisse occidentale sion',\n",
       "  'université de fribourg',\n",
       "  'informatique université de genève',\n",
       "  'école polytechnique fédérale de lausanne ',\n",
       "  \"haute école d'ingénierie et de gestion du canton de vaud réseaux et systèmes\",\n",
       "  \"haute école d'ingénierie et de gestion du canton de vaud informatique logiciel\",\n",
       "  'liebherr',\n",
       "  'bcv',\n",
       "  'vaudoise',\n",
       "  '42 lausanne']]"
      ]
     },
     "execution_count": 37,
     "metadata": {},
     "output_type": "execute_result"
    }
   ],
   "source": [
    "results = mini_lm_l12_collection.query(\n",
    "    query_texts=[\"j'aimerais faire des hautes études\"],\n",
    "    n_results=10,\n",
    ")   \n",
    "\n",
    "results[\"ids\"]"
   ]
  },
  {
   "cell_type": "code",
   "execution_count": 36,
   "id": "0d93ce8e-0972-4130-9c2d-a2e05c546d8a",
   "metadata": {},
   "outputs": [
    {
     "data": {
      "text/plain": [
       "[['université de fribourg',\n",
       "  'informatique université de genève',\n",
       "  'haute école spécialisée de suisse occidentale sion',\n",
       "  'école polytechnique fédérale de lausanne ',\n",
       "  \"haute école d'ingénierie et de gestion du canton de vaud réseaux et systèmes\",\n",
       "  \"haute école d'ingénierie et d'architecture fribourg\",\n",
       "  'liebherr',\n",
       "  \"haute école d'ingénierie et de gestion du canton de vaud informatique logiciel\",\n",
       "  'vaudoise',\n",
       "  '42 lausanne']]"
      ]
     },
     "execution_count": 36,
     "metadata": {},
     "output_type": "execute_result"
    }
   ],
   "source": [
    "results = mini_lm_l12_collection.query(\n",
    "    query_texts=[\"les études universitaires m'intéresse\"],\n",
    "    n_results=10,\n",
    ")   \n",
    "\n",
    "results[\"ids\"]"
   ]
  },
  {
   "cell_type": "markdown",
   "id": "b5626814-c717-4963-ac50-1762301b2f36",
   "metadata": {},
   "source": [
    "# Benchmark the Models"
   ]
  },
  {
   "cell_type": "code",
   "execution_count": 46,
   "id": "5a967807-fbc6-4b88-a598-c1d8eb35dbd5",
   "metadata": {},
   "outputs": [],
   "source": [
    "BASIC_QA_PROMPT = \"\"\"\\\n",
    "Le document contextuel est présenté ci-dessous :\n",
    "---------------------\n",
    "{context_str}\n",
    "---------------------\n",
    "\n",
    "Compte tenu des informations contextuelles et en l'absence de connaissances préalables,\n",
    "générez uniquement des questions basées sur la requête ci-dessous.\n",
    "\n",
    "Vous êtes enseignant/professeur. Votre tâche consiste à préparer \\\n",
    "{num_questions_per_chunk} questions pour un prochain \\\n",
    "quiz/examen. Les questions doivent être de nature variée \\\n",
    "à travers le document. Limitez les questions aux \\\n",
    "informations contextuelles fournies.\n",
    "\"\"\"\n",
    "def generate_qa():\n",
    "    input_seq = BASIC_QA_PROMPT.format(context_str=document, num_questions_per_chunk=1)"
   ]
  },
  {
   "cell_type": "code",
   "execution_count": null,
   "id": "adb38d63-b771-404b-b58b-1f5db556c2c6",
   "metadata": {},
   "outputs": [],
   "source": [
    "documents"
   ]
  }
 ],
 "metadata": {
  "kernelspec": {
   "display_name": "Python 3 (ipykernel)",
   "language": "python",
   "name": "python3"
  },
  "language_info": {
   "codemirror_mode": {
    "name": "ipython",
    "version": 3
   },
   "file_extension": ".py",
   "mimetype": "text/x-python",
   "name": "python",
   "nbconvert_exporter": "python",
   "pygments_lexer": "ipython3",
   "version": "3.13.2"
  }
 },
 "nbformat": 4,
 "nbformat_minor": 5
}

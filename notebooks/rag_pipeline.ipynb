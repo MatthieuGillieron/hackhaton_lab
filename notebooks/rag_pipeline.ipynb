{
 "cells": [
  {
   "cell_type": "markdown",
   "id": "21d38dfa-2875-4058-9a65-a632356beffe",
   "metadata": {},
   "source": [
    "# RAG Pipeline\n",
    "\n",
    "This notebook is our pipeline to transform the various websites around CS to text and put them in the vector store."
   ]
  },
  {
   "cell_type": "code",
   "execution_count": 1,
   "id": "413939ea-f8e9-4792-8aed-67d4a98de8f5",
   "metadata": {},
   "outputs": [
    {
     "data": {
      "text/plain": [
       "True"
      ]
     },
     "execution_count": 1,
     "metadata": {},
     "output_type": "execute_result"
    }
   ],
   "source": [
    "import chromadb\n",
    "from chromadb.utils.embedding_functions import Bm25EmbeddingFunction, DefaultEmbeddingFunction, HuggingFaceEmbeddingFunction\n",
    "from chromadb import Documents, EmbeddingFunction, Embeddings\n",
    "from dotenv import load_dotenv\n",
    "import requests\n",
    "from bs4 import BeautifulSoup\n",
    "import pandas as pd\n",
    "import numpy as np\n",
    "import os \n",
    "\n",
    "load_dotenv()"
   ]
  },
  {
   "cell_type": "code",
   "execution_count": 2,
   "id": "dbaf28e9-00c5-4375-b6ff-4ec1159b8460",
   "metadata": {},
   "outputs": [
    {
     "data": {
      "text/html": [
       "<div>\n",
       "<style scoped>\n",
       "    .dataframe tbody tr th:only-of-type {\n",
       "        vertical-align: middle;\n",
       "    }\n",
       "\n",
       "    .dataframe tbody tr th {\n",
       "        vertical-align: top;\n",
       "    }\n",
       "\n",
       "    .dataframe thead th {\n",
       "        text-align: right;\n",
       "    }\n",
       "</style>\n",
       "<table border=\"1\" class=\"dataframe\">\n",
       "  <thead>\n",
       "    <tr style=\"text-align: right;\">\n",
       "      <th></th>\n",
       "      <th>id</th>\n",
       "      <th>name</th>\n",
       "      <th>type</th>\n",
       "      <th>documentation_link</th>\n",
       "      <th>description</th>\n",
       "      <th>info_status</th>\n",
       "      <th>logo_url</th>\n",
       "      <th>last_updated_at</th>\n",
       "      <th>max_token_input</th>\n",
       "      <th>version</th>\n",
       "      <th>meta</th>\n",
       "    </tr>\n",
       "  </thead>\n",
       "  <tbody>\n",
       "    <tr>\n",
       "      <th>6</th>\n",
       "      <td>12</td>\n",
       "      <td>bge_multilingual_gemma2</td>\n",
       "      <td>embedding</td>\n",
       "      <td>https://developer.infomaniak.com/docs/api/post...</td>\n",
       "      <td>Bge Multilingual Gemma2</td>\n",
       "      <td>coming_soon</td>\n",
       "      <td>https://storage4.infomaniak.com/ai-tools/publi...</td>\n",
       "      <td>2024-12-04</td>\n",
       "      <td>8000.0</td>\n",
       "      <td>1.0</td>\n",
       "      <td>{'is_beta': False}</td>\n",
       "    </tr>\n",
       "    <tr>\n",
       "      <th>7</th>\n",
       "      <td>13</td>\n",
       "      <td>mini_lm_l12_v2</td>\n",
       "      <td>embedding</td>\n",
       "      <td>https://developer.infomaniak.com/docs/api/post...</td>\n",
       "      <td>All MiniLM L12 v2</td>\n",
       "      <td>coming_soon</td>\n",
       "      <td>https://storage4.infomaniak.com/ai-tools/publi...</td>\n",
       "      <td>2024-12-04</td>\n",
       "      <td>128.0</td>\n",
       "      <td>2.0</td>\n",
       "      <td>{'is_beta': False}</td>\n",
       "    </tr>\n",
       "  </tbody>\n",
       "</table>\n",
       "</div>"
      ],
      "text/plain": [
       "   id                     name       type  \\\n",
       "6  12  bge_multilingual_gemma2  embedding   \n",
       "7  13           mini_lm_l12_v2  embedding   \n",
       "\n",
       "                                  documentation_link              description  \\\n",
       "6  https://developer.infomaniak.com/docs/api/post...  Bge Multilingual Gemma2   \n",
       "7  https://developer.infomaniak.com/docs/api/post...        All MiniLM L12 v2   \n",
       "\n",
       "   info_status                                           logo_url  \\\n",
       "6  coming_soon  https://storage4.infomaniak.com/ai-tools/publi...   \n",
       "7  coming_soon  https://storage4.infomaniak.com/ai-tools/publi...   \n",
       "\n",
       "  last_updated_at  max_token_input version                meta  \n",
       "6      2024-12-04           8000.0     1.0  {'is_beta': False}  \n",
       "7      2024-12-04            128.0     2.0  {'is_beta': False}  "
      ]
     },
     "execution_count": 2,
     "metadata": {},
     "output_type": "execute_result"
    }
   ],
   "source": [
    "URL = \"https://api.infomaniak.com/1/ai/models\"\n",
    "headers = {\n",
    "  'Authorization': f'Bearer {os.getenv(\"API_TOKEN\")}',\n",
    "  'Content-Type': 'application/json',\n",
    "}\n",
    "req = requests.request(\"GET\", url = URL , headers = headers)\n",
    "res = req.json()\n",
    "\n",
    "info_df = pd.DataFrame(res[\"data\"])\n",
    "info_df[info_df[\"type\"] == \"embedding\"]"
   ]
  },
  {
   "cell_type": "markdown",
   "id": "9b87ba2c-1190-4ddb-ad58-0fdf097fc434",
   "metadata": {},
   "source": [
    "## 1. Data Processing: Conver HTML to Text\n",
    "\n",
    "using beautifulSoup and simple get request, we collect the data from websites."
   ]
  },
  {
   "cell_type": "code",
   "execution_count": 3,
   "id": "958c47e0-3c85-4690-a0e2-d9b50c9f558d",
   "metadata": {},
   "outputs": [
    {
     "name": "stdout",
     "output_type": "stream",
     "text": [
      "Number of chars: 30161\n",
      "Number of words: 3883\n"
     ]
    }
   ],
   "source": [
    "# needed to pretend I am a normal user ;)\n",
    "HEADERS = {\n",
    "    'User-Agent': 'Mozilla/5.0 (Macintosh; Intel Mac OS X 10_11_5) AppleWebKit/537.36 (KHTML, like Gecko) Chrome/50.0.2661.102 Safari/537.36'\n",
    "}\n",
    "\n",
    "def url_to_string(url: str) -> str:\n",
    "    if not url.startswith(\"https://\"):\n",
    "        url = \"https://\" + url\n",
    "    \n",
    "    res = requests.get(url, headers=HEADERS)\n",
    "    res.raise_for_status()\n",
    "\n",
    "    soup = BeautifulSoup(res.text, \"html.parser\")\n",
    "    site_text = \" \".join([text for text in soup.stripped_strings])\n",
    "    return site_text\n",
    "\n",
    "\n",
    "demo_url = \"www.orientation.ch/dyn/show/1900?id=152\"\n",
    "site_text = url_to_string(demo_url)\n",
    "\n",
    "print(\"Number of chars:\", len(site_text))\n",
    "print(\"Number of words:\", len(site_text.split()))"
   ]
  },
  {
   "cell_type": "code",
   "execution_count": 4,
   "id": "1a7dfa16-01bc-435d-8632-cd290f669aa8",
   "metadata": {},
   "outputs": [],
   "source": [
    "df = pd.read_csv(\"../links.csv\")\n",
    "\n",
    "url_list = df[\"link\"].to_list()\n",
    "url_text_list = [url_to_string(url) for url in url_list]"
   ]
  },
  {
   "cell_type": "code",
   "execution_count": 5,
   "id": "96f6beb1-83d3-4afa-9470-38e931cbca79",
   "metadata": {},
   "outputs": [
    {
     "data": {
      "text/html": [
       "<div>\n",
       "<style scoped>\n",
       "    .dataframe tbody tr th:only-of-type {\n",
       "        vertical-align: middle;\n",
       "    }\n",
       "\n",
       "    .dataframe tbody tr th {\n",
       "        vertical-align: top;\n",
       "    }\n",
       "\n",
       "    .dataframe thead th {\n",
       "        text-align: right;\n",
       "    }\n",
       "</style>\n",
       "<table border=\"1\" class=\"dataframe\">\n",
       "  <thead>\n",
       "    <tr style=\"text-align: right;\">\n",
       "      <th></th>\n",
       "      <th>title</th>\n",
       "      <th>link</th>\n",
       "      <th>url_text</th>\n",
       "    </tr>\n",
       "  </thead>\n",
       "  <tbody>\n",
       "    <tr>\n",
       "      <th>0</th>\n",
       "      <td>informaticen cfc</td>\n",
       "      <td>www.orientation.ch/dyn/show/1900?id=152</td>\n",
       "      <td>Informaticien CFC / Informaticienne CFC - orie...</td>\n",
       "    </tr>\n",
       "    <tr>\n",
       "      <th>1</th>\n",
       "      <td>informaticen es</td>\n",
       "      <td>www.orientation.ch/dyn/show/1900?id=885</td>\n",
       "      <td>Informaticien ES / Informaticienne ES - orient...</td>\n",
       "    </tr>\n",
       "    <tr>\n",
       "      <th>2</th>\n",
       "      <td>informatique université de fribourg</td>\n",
       "      <td>www.unifr.ch/inf/fr/informatique</td>\n",
       "      <td>Informatique | Département d'informatique  | U...</td>\n",
       "    </tr>\n",
       "    <tr>\n",
       "      <th>3</th>\n",
       "      <td>informatique de gestion université de fribourg</td>\n",
       "      <td>www.unifr.ch/inf/fr/informatique-de-gestion</td>\n",
       "      <td>Informatique de gestion | Département d'inform...</td>\n",
       "    </tr>\n",
       "    <tr>\n",
       "      <th>4</th>\n",
       "      <td>informatique université de genève</td>\n",
       "      <td>www.unige.ch/dinfo/formations/bachelor</td>\n",
       "      <td>Bachelor en sciences informatiques Présentatio...</td>\n",
       "    </tr>\n",
       "  </tbody>\n",
       "</table>\n",
       "</div>"
      ],
      "text/plain": [
       "                                            title  \\\n",
       "0                                informaticen cfc   \n",
       "1                                 informaticen es   \n",
       "2             informatique université de fribourg   \n",
       "3  informatique de gestion université de fribourg   \n",
       "4               informatique université de genève   \n",
       "\n",
       "                                          link  \\\n",
       "0      www.orientation.ch/dyn/show/1900?id=152   \n",
       "1      www.orientation.ch/dyn/show/1900?id=885   \n",
       "2             www.unifr.ch/inf/fr/informatique   \n",
       "3  www.unifr.ch/inf/fr/informatique-de-gestion   \n",
       "4       www.unige.ch/dinfo/formations/bachelor   \n",
       "\n",
       "                                            url_text  \n",
       "0  Informaticien CFC / Informaticienne CFC - orie...  \n",
       "1  Informaticien ES / Informaticienne ES - orient...  \n",
       "2  Informatique | Département d'informatique  | U...  \n",
       "3  Informatique de gestion | Département d'inform...  \n",
       "4  Bachelor en sciences informatiques Présentatio...  "
      ]
     },
     "execution_count": 5,
     "metadata": {},
     "output_type": "execute_result"
    }
   ],
   "source": [
    "df[\"url_text\"] = url_text_list\n",
    "df.head()"
   ]
  },
  {
   "cell_type": "markdown",
   "id": "7796918a-f81b-4dd7-a556-ef1a44f2cb6d",
   "metadata": {},
   "source": [
    "## 2. RAG Benchmark\n",
    "\n",
    "First two models are on infomaniak.\n",
    "The rest we will need to train ourselves by getting the model with a GPU.\n",
    "\n",
    "|evaluate? | Model name | Link |\n",
    "|:--------:|------------|------|\n",
    "| |MiniLM L12 v2 | https://developer.infomaniak.com/docs/api/post/1/ai/%7Bproduct_id%7D/openai/v1/embeddings |\n",
    "| X |BGE Multilingual Gemma 2 | https://developer.infomaniak.com/docs/api/post/1/ai/%7Bproduct_id%7D/openai/v1/embeddings |\n",
    "| X | paraphrase-multilingual-MiniLM-L12-v2 | https://huggingface.co/sentence-transformers/paraphrase-multilingual-MiniLM-L12-v2 |\n",
    "| X | paraphrase-multilingual-mpnet-base-v2 | https://huggingface.co/sentence-transformers/paraphrase-multilingual-mpnet-base-v2 |\n",
    "| X | distiluse-base-multilingual-cased-v2 | https://huggingface.co/sentence-transformers/distiluse-base-multilingual-cased-v2 |\n",
    "|  | Alibaba-NLP/gte-Qwen2-1.5B-instruct | https://huggingface.co/Alibaba-NLP/gte-Qwen2-1.5B-instruct |\n",
    "| X | BM25 | chromadb through `fastembed` | "
   ]
  },
  {
   "cell_type": "code",
   "execution_count": 6,
   "id": "b2b58f04-f6ab-4eb3-aa08-a603aa8a799f",
   "metadata": {},
   "outputs": [
    {
     "name": "stdout",
     "output_type": "stream",
     "text": [
      "hearbeat: 1760202354916504953\n"
     ]
    }
   ],
   "source": [
    "DB_PATH = \"../data/\"\n",
    "\n",
    "client = chromadb.PersistentClient(path=DB_PATH)\n",
    "# ensure the DB is available\n",
    "print(\"hearbeat:\", client.heartbeat())\n",
    "\n",
    "ids: list[str] = df[\"title\"].to_list() #df.index.astype(\"str\").to_list()\n",
    "documents: list[str] = df[\"url_text\"].to_list()"
   ]
  },
  {
   "cell_type": "markdown",
   "id": "1390312b-944f-4e55-86af-17bcd22322b8",
   "metadata": {},
   "source": [
    "## Infomaniak Model: MultiLingual Gemma 2 and MiniLM-L12-v2\n",
    "\n",
    "The latter is english only, we should not evaluate it."
   ]
  },
  {
   "cell_type": "code",
   "execution_count": 7,
   "id": "203702ec-91d2-401f-9290-0bdf08f22b21",
   "metadata": {},
   "outputs": [
    {
     "name": "stdout",
     "output_type": "stream",
     "text": [
      "200\n"
     ]
    }
   ],
   "source": [
    "PRODUCT_ID = os.getenv(\"PRODUCT_ID\")\n",
    "API_TOKEN = os.getenv(\"API_TOKEN\")\n",
    "\n",
    "URL = f\"https://api.infomaniak.com/1/ai/{PRODUCT_ID}/openai/v1/embeddings\"\n",
    "\n",
    "headers = {\n",
    "  'Authorization': f\"Bearer {API_TOKEN}\",\n",
    "  'Content-Type': 'application/json',\n",
    "}\n",
    "\n",
    "payload = {\n",
    "    \"input\": documents,\n",
    "    \"model\": \"bge_multilingual_gemma2\",\n",
    "    \"mode\": \"index\",\n",
    "}\n",
    "\n",
    "req = requests.post(url=URL , json=payload, headers=headers)\n",
    "res = req.json()\n",
    "print(req.status_code)\n",
    "\n",
    "assert len(documents) == len(res[\"data\"])"
   ]
  },
  {
   "cell_type": "code",
   "execution_count": 8,
   "id": "1119c7d5-d467-4cbe-bd94-9012b9a567c1",
   "metadata": {},
   "outputs": [],
   "source": [
    "PRODUCT_ID = os.getenv(\"PRODUCT_ID\")\n",
    "API_TOKEN = os.getenv(\"API_TOKEN\")\n",
    "\n",
    "\n",
    "class MultinligualGemma2(EmbeddingFunction):\n",
    "    def __init__(self) -> None:\n",
    "        self.model_name = \"bge_multilingual_gemma2\"\n",
    "        self.url = f\"https://api.infomaniak.com/1/ai/{PRODUCT_ID}/openai/v1/embeddings\"\n",
    "        self.headers = {\n",
    "          'Authorization': f\"Bearer {API_TOKEN}\",\n",
    "          'Content-Type': 'application/json',\n",
    "        }\n",
    "        \n",
    "    def __call__(self, input_data: Documents) -> Embeddings:\n",
    "        payload = {\n",
    "            \"input\": input_data,\n",
    "            \"model\": self.model_name,\n",
    "        }\n",
    "\n",
    "        req = requests.post(url=self.url, json=payload, headers=self.headers)\n",
    "        res = req.json()\n",
    "        data = res[\"data\"]\n",
    "        embeddings = [np.array(x[\"embedding\"]) for x in data]\n",
    "        \n",
    "        return embeddings\n",
    "\n",
    "\n",
    "# Do not evaluate this one\n",
    "class MiniLML12V2(EmbeddingFunction):\n",
    "    def __init__(self) -> None:\n",
    "        self.model_name = \"mini_lm_l12_v2\"\n",
    "        self.url = f\"https://api.infomaniak.com/1/ai/{PRODUCT_ID}/openai/v1/embeddings\"\n",
    "        self.headers = {\n",
    "          'Authorization': f\"Bearer {API_TOKEN}\",\n",
    "          'Content-Type': 'application/json',\n",
    "        }\n",
    "        \n",
    "    def __call__(self, input_data: Documents) -> Embeddings:\n",
    "        payload = {\n",
    "            \"input\": input_data,\n",
    "            \"model\": self.model_name,\n",
    "        }\n",
    "\n",
    "        req = requests.post(url=self.url, json=payload, headers=self.headers)\n",
    "        res = req.json()\n",
    "        data = res[\"data\"]\n",
    "        embeddings = [np.array(x[\"embedding\"]) for x in data]\n",
    "        \n",
    "        return embeddings"
   ]
  },
  {
   "cell_type": "code",
   "execution_count": 9,
   "id": "54f47f8a-aecb-43f7-86ec-b69131d1d336",
   "metadata": {},
   "outputs": [
    {
     "name": "stdout",
     "output_type": "stream",
     "text": [
      "Collection(name=multilingual-gemma2)\n",
      "<__main__.MultinligualGemma2 object at 0x7c3b5c567b60>\n"
     ]
    }
   ],
   "source": [
    "multilingual_gemma2_collection = client.get_or_create_collection(\n",
    "    name=\"multilingual-gemma2\",\n",
    "    embedding_function=MultinligualGemma2()\n",
    ")\n",
    "\n",
    "print(multilingual_gemma2_collection)\n",
    "print(multilingual_gemma2_collection._embedding_function)"
   ]
  },
  {
   "cell_type": "code",
   "execution_count": 10,
   "id": "2da32200-7477-4b66-aaf7-c66a8dbbb9cc",
   "metadata": {},
   "outputs": [],
   "source": [
    "multilingual_gemma2_collection.add(\n",
    "    ids=ids,\n",
    "    documents=documents,\n",
    ")"
   ]
  },
  {
   "cell_type": "code",
   "execution_count": 11,
   "id": "55cb6eec-5030-4710-8273-b87e18bacfa2",
   "metadata": {},
   "outputs": [
    {
     "data": {
      "text/plain": [
       "8"
      ]
     },
     "execution_count": 11,
     "metadata": {},
     "output_type": "execute_result"
    }
   ],
   "source": [
    "multilingual_gemma2_collection.count()"
   ]
  },
  {
   "cell_type": "code",
   "execution_count": 12,
   "id": "bd0789a9-48c6-459e-88d2-8798f4869d35",
   "metadata": {},
   "outputs": [],
   "source": [
    "results = multilingual_gemma2_collection.query(\n",
    "    query_texts=[\"J'aimerais faire un apprentissage\"],\n",
    "    n_results=2,\n",
    ")   \n",
    "\n",
    "results[\"ids\"]"
   ]
  },
  {
   "cell_type": "markdown",
   "id": "7e9d2547-d095-41a3-afa8-1001388fc0fb",
   "metadata": {},
   "source": [
    "## BM25 "
   ]
  },
  {
   "cell_type": "code",
   "execution_count": null,
   "id": "e56305d0-770d-4677-99ff-070797a3fd93",
   "metadata": {},
   "outputs": [],
   "source": [
    "bm_25_collection = client.get_or_create_collection(\n",
    "    name=\"bm25\",\n",
    "    embedding_function=Bm25EmbeddingFunction()\n",
    ")\n",
    "\n",
    "print(bm_25_collection)\n",
    "print(bm_25_collection._embedding_function)"
   ]
  },
  {
   "cell_type": "code",
   "execution_count": null,
   "id": "2cb272d5-29ba-49ef-948d-0b106fc88b57",
   "metadata": {
    "scrolled": true
   },
   "outputs": [],
   "source": [
    "ids: list[str] = df[\"title\"].to_list() #df.index.astype(\"str\").to_list()\n",
    "documents: list[str] = df[\"url_text\"].to_list()\n",
    "\n",
    "# NOT WOKRING: WHY?\n",
    "bm_25_collection.add(\n",
    "    ids=ids,\n",
    "    documents=documents,\n",
    ")"
   ]
  },
  {
   "cell_type": "markdown",
   "id": "3cc62352-4662-4769-b9c0-4984b83b6bb8",
   "metadata": {},
   "source": [
    "## Sentence Transformer\n",
    "\n",
    "For all the HugginFace model."
   ]
  },
  {
   "cell_type": "code",
   "execution_count": 14,
   "id": "15d74c97-4fe5-433a-977b-34ad67ad7128",
   "metadata": {},
   "outputs": [],
   "source": [
    "# model we are interested in \n",
    "mini_lm_l12 = \"sentence-transformers/paraphrase-multilingual-MiniLM-L12-v2\" # 118M\n",
    "mpnet_base = \"sentence-transformers/paraphrase-multilingual-mpnet-base-v2\" # 278M\n",
    "distule_base = \"sentence-transformers/distiluse-base-multilingual-cased-v2\" # 135M"
   ]
  },
  {
   "cell_type": "code",
   "execution_count": 47,
   "id": "00811686-865a-4434-a2c3-8e3d9a32800d",
   "metadata": {},
   "outputs": [
    {
     "name": "stdout",
     "output_type": "stream",
     "text": [
      "SentenceTransformer(\n",
      "  (0): Transformer({'max_seq_length': 128, 'do_lower_case': False, 'architecture': 'BertModel'})\n",
      "  (1): Pooling({'word_embedding_dimension': 384, 'pooling_mode_cls_token': False, 'pooling_mode_mean_tokens': True, 'pooling_mode_max_tokens': False, 'pooling_mode_mean_sqrt_len_tokens': False, 'pooling_mode_weightedmean_tokens': False, 'pooling_mode_lasttoken': False, 'include_prompt': True})\n",
      ")\n"
     ]
    }
   ],
   "source": [
    "from sentence_transformers import SentenceTransformer\n",
    "\n",
    "model = SentenceTransformer(mini_lm_l12)\n",
    "print(model)"
   ]
  },
  {
   "cell_type": "code",
   "execution_count": 48,
   "id": "7cbc33fb-c943-416f-8111-2efb434e0a82",
   "metadata": {},
   "outputs": [
    {
     "name": "stdout",
     "output_type": "stream",
     "text": [
      "CPU times: user 95.2 ms, sys: 14.7 ms, total: 110 ms\n",
      "Wall time: 68.4 ms\n"
     ]
    }
   ],
   "source": [
    "%%time\n",
    "\n",
    "sentences = [\"text1\", \"This is a long sentence to demo how fast the model is and see if we can run it on CPU or maybe we need GPU?\"]\n",
    "embeddings = model.encode(sentences)"
   ]
  },
  {
   "cell_type": "code",
   "execution_count": 54,
   "id": "efb0d733-3475-4b52-9c87-565e6b631aa8",
   "metadata": {},
   "outputs": [
    {
     "data": {
      "text/plain": [
       "[(384,), (384,)]"
      ]
     },
     "execution_count": 54,
     "metadata": {},
     "output_type": "execute_result"
    }
   ],
   "source": [
    "[x.shape for x in list(embeddings)]"
   ]
  },
  {
   "cell_type": "code",
   "execution_count": 66,
   "id": "91b684c7-df06-4001-938e-d583c79d7bb9",
   "metadata": {},
   "outputs": [],
   "source": [
    "class SentenceTransformerFunction(EmbeddingFunction):\n",
    "    def __init__(self, model_name: str) -> None:\n",
    "        self.model_name = model_name\n",
    "        self.model = SentenceTransformer(self.model_name)\n",
    "        \n",
    "    def __call__(self, input_data: Documents) -> Embeddings:\n",
    "        print(len(input_data))\n",
    "        embeddings = self.model.encode(input_data)\n",
    "        print(len(embeddings))\n",
    "        return embeddings"
   ]
  },
  {
   "cell_type": "code",
   "execution_count": 57,
   "id": "bf011ab1-93ea-4cf7-a7ba-690f9e1192f3",
   "metadata": {},
   "outputs": [
    {
     "name": "stdout",
     "output_type": "stream",
     "text": [
      "Collection(name=mini_lm_l12)\n",
      "<__main__.SentenceTransformerFunction object at 0x7c39d95b7770>\n"
     ]
    }
   ],
   "source": [
    "mini_lm_l12_collection = client.get_or_create_collection(\n",
    "    name=\"mini_lm_l12\",\n",
    "    embedding_function=SentenceTransformerFunction(mini_lm_l12),\n",
    ")\n",
    "\n",
    "print(mini_lm_l12_collection)\n",
    "print(mini_lm_l12_collection._embedding_function)"
   ]
  },
  {
   "cell_type": "code",
   "execution_count": 67,
   "id": "2289eda9-6e13-4205-a688-43d264a3a426",
   "metadata": {},
   "outputs": [],
   "source": [
    "model_func = SentenceTransformerFunction(mini_lm_l12)"
   ]
  },
  {
   "cell_type": "code",
   "execution_count": 68,
   "id": "e4a4d5a0-bb72-4551-ac32-bc8c0db38b54",
   "metadata": {},
   "outputs": [
    {
     "name": "stdout",
     "output_type": "stream",
     "text": [
      "2\n",
      "2\n"
     ]
    }
   ],
   "source": [
    "x1 = model_func(sentences)"
   ]
  },
  {
   "cell_type": "code",
   "execution_count": 69,
   "id": "4798e7a6-7143-407b-8ddc-2b143ec02424",
   "metadata": {},
   "outputs": [
    {
     "name": "stdout",
     "output_type": "stream",
     "text": [
      "8\n",
      "8\n"
     ]
    }
   ],
   "source": [
    "out = model_func(documents)"
   ]
  },
  {
   "cell_type": "code",
   "execution_count": 44,
   "id": "d4137d65-1374-4dbc-88c6-a8fe8dd8db5f",
   "metadata": {},
   "outputs": [
    {
     "data": {
      "text/plain": [
       "['Informatic',\n",
       " 'Informatic',\n",
       " 'Informatiq',\n",
       " 'Informatiq',\n",
       " 'Bachelor e',\n",
       " \"École d'in\",\n",
       " 'Accueil - ',\n",
       " 'IDEC Ecole']"
      ]
     },
     "execution_count": 44,
     "metadata": {},
     "output_type": "execute_result"
    }
   ],
   "source": [
    "[d[0:10] for d in documents]"
   ]
  },
  {
   "cell_type": "code",
   "execution_count": 32,
   "id": "bc93d1ba-46fb-4a48-95a2-bd7eb0da7861",
   "metadata": {},
   "outputs": [
    {
     "name": "stdout",
     "output_type": "stream",
     "text": [
      "8\n",
      "1\n"
     ]
    },
    {
     "ename": "InvalidArgumentError",
     "evalue": "Inconsistent number of IDs, embeddings, documents, URIs and metadatas",
     "output_type": "error",
     "traceback": [
      "\u001b[31m---------------------------------------------------------------------------\u001b[39m",
      "\u001b[31mInvalidArgumentError\u001b[39m                      Traceback (most recent call last)",
      "\u001b[36mCell\u001b[39m\u001b[36m \u001b[39m\u001b[32mIn[32]\u001b[39m\u001b[32m, line 1\u001b[39m\n\u001b[32m----> \u001b[39m\u001b[32m1\u001b[39m \u001b[43mmini_lm_l12_collection\u001b[49m\u001b[43m.\u001b[49m\u001b[43madd\u001b[49m\u001b[43m(\u001b[49m\n\u001b[32m      2\u001b[39m \u001b[43m    \u001b[49m\u001b[43mids\u001b[49m\u001b[43m=\u001b[49m\u001b[43mids\u001b[49m\u001b[43m,\u001b[49m\n\u001b[32m      3\u001b[39m \u001b[43m    \u001b[49m\u001b[43mdocuments\u001b[49m\u001b[43m=\u001b[49m\u001b[43mdocuments\u001b[49m\u001b[43m,\u001b[49m\n\u001b[32m      4\u001b[39m \u001b[43m)\u001b[49m\n",
      "\u001b[36mFile \u001b[39m\u001b[32m~/Projects/py/hackhaton_lab/.venv/lib/python3.13/site-packages/chromadb/api/models/Collection.py:93\u001b[39m, in \u001b[36mCollection.add\u001b[39m\u001b[34m(self, ids, embeddings, metadatas, documents, images, uris)\u001b[39m\n\u001b[32m     63\u001b[39m \u001b[38;5;250m\u001b[39m\u001b[33;03m\"\"\"Add embeddings to the data store.\u001b[39;00m\n\u001b[32m     64\u001b[39m \u001b[33;03mArgs:\u001b[39;00m\n\u001b[32m     65\u001b[39m \u001b[33;03m    ids: The ids of the embeddings you wish to add\u001b[39;00m\n\u001b[32m   (...)\u001b[39m\u001b[32m     81\u001b[39m \n\u001b[32m     82\u001b[39m \u001b[33;03m\"\"\"\u001b[39;00m\n\u001b[32m     84\u001b[39m add_request = \u001b[38;5;28mself\u001b[39m._validate_and_prepare_add_request(\n\u001b[32m     85\u001b[39m     ids=ids,\n\u001b[32m     86\u001b[39m     embeddings=embeddings,\n\u001b[32m   (...)\u001b[39m\u001b[32m     90\u001b[39m     uris=uris,\n\u001b[32m     91\u001b[39m )\n\u001b[32m---> \u001b[39m\u001b[32m93\u001b[39m \u001b[38;5;28;43mself\u001b[39;49m\u001b[43m.\u001b[49m\u001b[43m_client\u001b[49m\u001b[43m.\u001b[49m\u001b[43m_add\u001b[49m\u001b[43m(\u001b[49m\n\u001b[32m     94\u001b[39m \u001b[43m    \u001b[49m\u001b[43mcollection_id\u001b[49m\u001b[43m=\u001b[49m\u001b[38;5;28;43mself\u001b[39;49m\u001b[43m.\u001b[49m\u001b[43mid\u001b[49m\u001b[43m,\u001b[49m\n\u001b[32m     95\u001b[39m \u001b[43m    \u001b[49m\u001b[43mids\u001b[49m\u001b[43m=\u001b[49m\u001b[43madd_request\u001b[49m\u001b[43m[\u001b[49m\u001b[33;43m\"\u001b[39;49m\u001b[33;43mids\u001b[39;49m\u001b[33;43m\"\u001b[39;49m\u001b[43m]\u001b[49m\u001b[43m,\u001b[49m\n\u001b[32m     96\u001b[39m \u001b[43m    \u001b[49m\u001b[43membeddings\u001b[49m\u001b[43m=\u001b[49m\u001b[43madd_request\u001b[49m\u001b[43m[\u001b[49m\u001b[33;43m\"\u001b[39;49m\u001b[33;43membeddings\u001b[39;49m\u001b[33;43m\"\u001b[39;49m\u001b[43m]\u001b[49m\u001b[43m,\u001b[49m\n\u001b[32m     97\u001b[39m \u001b[43m    \u001b[49m\u001b[43mmetadatas\u001b[49m\u001b[43m=\u001b[49m\u001b[43madd_request\u001b[49m\u001b[43m[\u001b[49m\u001b[33;43m\"\u001b[39;49m\u001b[33;43mmetadatas\u001b[39;49m\u001b[33;43m\"\u001b[39;49m\u001b[43m]\u001b[49m\u001b[43m,\u001b[49m\n\u001b[32m     98\u001b[39m \u001b[43m    \u001b[49m\u001b[43mdocuments\u001b[49m\u001b[43m=\u001b[49m\u001b[43madd_request\u001b[49m\u001b[43m[\u001b[49m\u001b[33;43m\"\u001b[39;49m\u001b[33;43mdocuments\u001b[39;49m\u001b[33;43m\"\u001b[39;49m\u001b[43m]\u001b[49m\u001b[43m,\u001b[49m\n\u001b[32m     99\u001b[39m \u001b[43m    \u001b[49m\u001b[43muris\u001b[49m\u001b[43m=\u001b[49m\u001b[43madd_request\u001b[49m\u001b[43m[\u001b[49m\u001b[33;43m\"\u001b[39;49m\u001b[33;43muris\u001b[39;49m\u001b[33;43m\"\u001b[39;49m\u001b[43m]\u001b[49m\u001b[43m,\u001b[49m\n\u001b[32m    100\u001b[39m \u001b[43m    \u001b[49m\u001b[43mtenant\u001b[49m\u001b[43m=\u001b[49m\u001b[38;5;28;43mself\u001b[39;49m\u001b[43m.\u001b[49m\u001b[43mtenant\u001b[49m\u001b[43m,\u001b[49m\n\u001b[32m    101\u001b[39m \u001b[43m    \u001b[49m\u001b[43mdatabase\u001b[49m\u001b[43m=\u001b[49m\u001b[38;5;28;43mself\u001b[39;49m\u001b[43m.\u001b[49m\u001b[43mdatabase\u001b[49m\u001b[43m,\u001b[49m\n\u001b[32m    102\u001b[39m \u001b[43m\u001b[49m\u001b[43m)\u001b[49m\n",
      "\u001b[36mFile \u001b[39m\u001b[32m~/Projects/py/hackhaton_lab/.venv/lib/python3.13/site-packages/chromadb/api/rust.py:421\u001b[39m, in \u001b[36mRustBindingsAPI._add\u001b[39m\u001b[34m(self, ids, collection_id, embeddings, metadatas, documents, uris, tenant, database)\u001b[39m\n\u001b[32m    399\u001b[39m \u001b[38;5;129m@override\u001b[39m\n\u001b[32m    400\u001b[39m \u001b[38;5;28;01mdef\u001b[39;00m\u001b[38;5;250m \u001b[39m\u001b[34m_add\u001b[39m(\n\u001b[32m    401\u001b[39m     \u001b[38;5;28mself\u001b[39m,\n\u001b[32m   (...)\u001b[39m\u001b[32m    409\u001b[39m     database: \u001b[38;5;28mstr\u001b[39m = DEFAULT_DATABASE,\n\u001b[32m    410\u001b[39m ) -> \u001b[38;5;28mbool\u001b[39m:\n\u001b[32m    411\u001b[39m     \u001b[38;5;28mself\u001b[39m.product_telemetry_client.capture(\n\u001b[32m    412\u001b[39m         CollectionAddEvent(\n\u001b[32m    413\u001b[39m             collection_uuid=\u001b[38;5;28mstr\u001b[39m(collection_id),\n\u001b[32m   (...)\u001b[39m\u001b[32m    418\u001b[39m         )\n\u001b[32m    419\u001b[39m     )\n\u001b[32m--> \u001b[39m\u001b[32m421\u001b[39m     \u001b[38;5;28;01mreturn\u001b[39;00m \u001b[38;5;28;43mself\u001b[39;49m\u001b[43m.\u001b[49m\u001b[43mbindings\u001b[49m\u001b[43m.\u001b[49m\u001b[43madd\u001b[49m\u001b[43m(\u001b[49m\n\u001b[32m    422\u001b[39m \u001b[43m        \u001b[49m\u001b[43mids\u001b[49m\u001b[43m,\u001b[49m\n\u001b[32m    423\u001b[39m \u001b[43m        \u001b[49m\u001b[38;5;28;43mstr\u001b[39;49m\u001b[43m(\u001b[49m\u001b[43mcollection_id\u001b[49m\u001b[43m)\u001b[49m\u001b[43m,\u001b[49m\n\u001b[32m    424\u001b[39m \u001b[43m        \u001b[49m\u001b[43membeddings\u001b[49m\u001b[43m,\u001b[49m\n\u001b[32m    425\u001b[39m \u001b[43m        \u001b[49m\u001b[43mmetadatas\u001b[49m\u001b[43m,\u001b[49m\n\u001b[32m    426\u001b[39m \u001b[43m        \u001b[49m\u001b[43mdocuments\u001b[49m\u001b[43m,\u001b[49m\n\u001b[32m    427\u001b[39m \u001b[43m        \u001b[49m\u001b[43muris\u001b[49m\u001b[43m,\u001b[49m\n\u001b[32m    428\u001b[39m \u001b[43m        \u001b[49m\u001b[43mtenant\u001b[49m\u001b[43m,\u001b[49m\n\u001b[32m    429\u001b[39m \u001b[43m        \u001b[49m\u001b[43mdatabase\u001b[49m\u001b[43m,\u001b[49m\n\u001b[32m    430\u001b[39m \u001b[43m    \u001b[49m\u001b[43m)\u001b[49m\n",
      "\u001b[31mInvalidArgumentError\u001b[39m: Inconsistent number of IDs, embeddings, documents, URIs and metadatas"
     ]
    }
   ],
   "source": [
    "mini_lm_l12_collection.add(\n",
    "    ids=ids,\n",
    "    documents=documents,\n",
    ")"
   ]
  },
  {
   "cell_type": "code",
   "execution_count": null,
   "id": "a29e0424-d74d-49d7-98b7-4e1606c614eb",
   "metadata": {},
   "outputs": [],
   "source": []
  }
 ],
 "metadata": {
  "kernelspec": {
   "display_name": "Python 3 (ipykernel)",
   "language": "python",
   "name": "python3"
  },
  "language_info": {
   "codemirror_mode": {
    "name": "ipython",
    "version": 3
   },
   "file_extension": ".py",
   "mimetype": "text/x-python",
   "name": "python",
   "nbconvert_exporter": "python",
   "pygments_lexer": "ipython3",
   "version": "3.13.2"
  }
 },
 "nbformat": 4,
 "nbformat_minor": 5
}

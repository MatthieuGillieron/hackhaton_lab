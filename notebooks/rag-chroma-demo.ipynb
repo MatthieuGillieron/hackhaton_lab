{
 "cells": [
  {
   "cell_type": "markdown",
   "id": "21d38dfa-2875-4058-9a65-a632356beffe",
   "metadata": {},
   "source": [
    "# RAG\n",
    "\n",
    "A notebook to demo how we can use Retrieval Augmented Generation (RAG) with an LLM."
   ]
  },
  {
   "cell_type": "markdown",
   "id": "8e3f76d2-3e75-4583-ac49-fc08ea309ac3",
   "metadata": {},
   "source": [
    "## Chroma Demo\n",
    "\n",
    "A notebook to demo how we can use Retrieval Augmented Generation (RAG) with an LLM.\n",
    "\n",
    "We will use ChromaDB as the vector store for this."
   ]
  },
  {
   "cell_type": "code",
   "execution_count": 1,
   "id": "917b91fa-e67c-4c70-aa38-c788b93f567c",
   "metadata": {},
   "outputs": [],
   "source": [
    "from dotenv import load_dotenv\n",
    "import chromadb\n",
    "import os\n",
    "\n",
    "load_dotenv() \n",
    "\n",
    "chroma_client = chromadb.Client()"
   ]
  },
  {
   "cell_type": "code",
   "execution_count": 2,
   "id": "44c18454-236e-4f91-ae25-a829ee2afe6e",
   "metadata": {},
   "outputs": [
    {
     "data": {
      "text/plain": [
       "Collection(name=main)"
      ]
     },
     "execution_count": 2,
     "metadata": {},
     "output_type": "execute_result"
    }
   ],
   "source": [
    "collection = chroma_client.get_or_create_collection(name=\"main\")\n",
    "collection"
   ]
  },
  {
   "cell_type": "code",
   "execution_count": 3,
   "id": "0e40778f-f14a-4eca-9dd5-c4f737208d1f",
   "metadata": {},
   "outputs": [
    {
     "data": {
      "text/plain": [
       "[Collection(name=main)]"
      ]
     },
     "execution_count": 3,
     "metadata": {},
     "output_type": "execute_result"
    }
   ],
   "source": [
    "chroma_client.list_collections()"
   ]
  },
  {
   "cell_type": "code",
   "execution_count": 4,
   "id": "482288b1-eb46-4eb7-9fe0-bc79103ffca8",
   "metadata": {},
   "outputs": [
    {
     "name": "stdout",
     "output_type": "stream",
     "text": [
      "Number of items in the collection: 4\n"
     ]
    }
   ],
   "source": [
    "# just a quick demo on how this works\n",
    "# by default this uses a MiniLM L6-v2\n",
    "collection.add(\n",
    "    ids=[\"id1\", \"id2\", \"id3\", \"id4\"],\n",
    "    documents=[\n",
    "        \"document sur un cfc / apprentissage\",\n",
    "        \"document sur l'epfl\",\n",
    "        \"document sur 42 Lausanne\",\n",
    "        \"document sur université de fribougr\",\n",
    "    ]\n",
    ")\n",
    "\n",
    "print(\"Number of items in the collection:\", collection.count())"
   ]
  },
  {
   "cell_type": "code",
   "execution_count": 5,
   "id": "a86fb99e-43b6-44de-bda5-6005eee01892",
   "metadata": {},
   "outputs": [
    {
     "data": {
      "text/plain": [
       "{'ids': [['id1']],\n",
       " 'embeddings': None,\n",
       " 'documents': [['document sur un cfc / apprentissage']],\n",
       " 'uris': None,\n",
       " 'included': ['metadatas', 'documents', 'distances'],\n",
       " 'data': None,\n",
       " 'metadatas': [[None]],\n",
       " 'distances': [[0.9254448413848877]]}"
      ]
     },
     "execution_count": 5,
     "metadata": {},
     "output_type": "execute_result"
    }
   ],
   "source": [
    "out = collection.query(\n",
    "    query_texts=[\"J'aimerais faire un apprentissage\"],\n",
    "    n_results=1,\n",
    ")\n",
    "\n",
    "out"
   ]
  },
  {
   "cell_type": "code",
   "execution_count": 6,
   "id": "af8bdcfb-378d-4ee7-95dc-b784f84d7673",
   "metadata": {
    "scrolled": true
   },
   "outputs": [
    {
     "data": {
      "text/plain": [
       "[['document sur université de fribougr', \"document sur l'epfl\"]]"
      ]
     },
     "execution_count": 6,
     "metadata": {},
     "output_type": "execute_result"
    }
   ],
   "source": [
    "out = collection.query(\n",
    "    query_texts=[\"J'aimerais aller au collège pour ensuite faire l'université\"],\n",
    "    n_results=2,\n",
    ")\n",
    "\n",
    "# key documents returns the text of the relevant docs\n",
    "out[\"documents\"]"
   ]
  },
  {
   "cell_type": "code",
   "execution_count": 7,
   "id": "3e24486a-8b56-4ab2-9500-46956950614b",
   "metadata": {},
   "outputs": [],
   "source": [
    "chroma_client.delete_collection(name=\"main\")"
   ]
  },
  {
   "cell_type": "markdown",
   "id": "9b87ba2c-1190-4ddb-ad58-0fdf097fc434",
   "metadata": {},
   "source": [
    "## Beautiful Soup: HTML to Text"
   ]
  },
  {
   "cell_type": "code",
   "execution_count": 8,
   "id": "ea4dbef7-eefe-4179-af79-f712d6211a41",
   "metadata": {},
   "outputs": [],
   "source": [
    "import requests\n",
    "from bs4 import BeautifulSoup\n",
    "\n",
    "url = \"www.orientation.ch/dyn/show/1900?id=152\"\n",
    "\n",
    "res = requests.get(\"https://\" + url)"
   ]
  },
  {
   "cell_type": "code",
   "execution_count": 9,
   "id": "958c47e0-3c85-4690-a0e2-d9b50c9f558d",
   "metadata": {},
   "outputs": [
    {
     "name": "stdout",
     "output_type": "stream",
     "text": [
      "Number of chars: 30161\n",
      "Number of words: 3883\n"
     ]
    }
   ],
   "source": [
    "# needed to pretend I am a normal user ;)\n",
    "HEADERS = {\n",
    "    'User-Agent': 'Mozilla/5.0 (Macintosh; Intel Mac OS X 10_11_5) AppleWebKit/537.36 (KHTML, like Gecko) Chrome/50.0.2661.102 Safari/537.36'\n",
    "}\n",
    "\n",
    "\n",
    "def url_to_string(url: str) -> str:\n",
    "    if not url.startswith(\"https://\"):\n",
    "        url = \"https://\" + url\n",
    "    \n",
    "    res = requests.get(url, headers=HEADERS)\n",
    "    res.raise_for_status()\n",
    "\n",
    "    soup = BeautifulSoup(res.text, \"html.parser\")\n",
    "    site_text = \" \".join([text for text in soup.stripped_strings])\n",
    "    return site_text\n",
    "\n",
    "site_text = url_to_string(url)\n",
    "\n",
    "print(\"Number of chars:\", len(site_text))\n",
    "print(\"Number of words:\", len(site_text.split()))"
   ]
  },
  {
   "cell_type": "code",
   "execution_count": 10,
   "id": "dba417e1-96ad-4dd7-aebc-58231ef73120",
   "metadata": {},
   "outputs": [
    {
     "data": {
      "text/html": [
       "<div>\n",
       "<style scoped>\n",
       "    .dataframe tbody tr th:only-of-type {\n",
       "        vertical-align: middle;\n",
       "    }\n",
       "\n",
       "    .dataframe tbody tr th {\n",
       "        vertical-align: top;\n",
       "    }\n",
       "\n",
       "    .dataframe thead th {\n",
       "        text-align: right;\n",
       "    }\n",
       "</style>\n",
       "<table border=\"1\" class=\"dataframe\">\n",
       "  <thead>\n",
       "    <tr style=\"text-align: right;\">\n",
       "      <th></th>\n",
       "      <th>title</th>\n",
       "      <th>link</th>\n",
       "    </tr>\n",
       "  </thead>\n",
       "  <tbody>\n",
       "    <tr>\n",
       "      <th>0</th>\n",
       "      <td>informaticen cfc</td>\n",
       "      <td>www.orientation.ch/dyn/show/1900?id=152</td>\n",
       "    </tr>\n",
       "    <tr>\n",
       "      <th>1</th>\n",
       "      <td>informaticen es</td>\n",
       "      <td>www.orientation.ch/dyn/show/1900?id=885</td>\n",
       "    </tr>\n",
       "    <tr>\n",
       "      <th>2</th>\n",
       "      <td>informatique université de fribourg</td>\n",
       "      <td>www.unifr.ch/inf/fr/informatique</td>\n",
       "    </tr>\n",
       "    <tr>\n",
       "      <th>3</th>\n",
       "      <td>informatique de gestion université de fribourg</td>\n",
       "      <td>www.unifr.ch/inf/fr/informatique-de-gestion</td>\n",
       "    </tr>\n",
       "    <tr>\n",
       "      <th>4</th>\n",
       "      <td>informatique université de genève</td>\n",
       "      <td>www.unige.ch/dinfo/formations/bachelor</td>\n",
       "    </tr>\n",
       "  </tbody>\n",
       "</table>\n",
       "</div>"
      ],
      "text/plain": [
       "                                            title  \\\n",
       "0                                informaticen cfc   \n",
       "1                                 informaticen es   \n",
       "2             informatique université de fribourg   \n",
       "3  informatique de gestion université de fribourg   \n",
       "4               informatique université de genève   \n",
       "\n",
       "                                          link  \n",
       "0      www.orientation.ch/dyn/show/1900?id=152  \n",
       "1      www.orientation.ch/dyn/show/1900?id=885  \n",
       "2             www.unifr.ch/inf/fr/informatique  \n",
       "3  www.unifr.ch/inf/fr/informatique-de-gestion  \n",
       "4       www.unige.ch/dinfo/formations/bachelor  "
      ]
     },
     "execution_count": 10,
     "metadata": {},
     "output_type": "execute_result"
    }
   ],
   "source": [
    "import pandas as pd\n",
    "\n",
    "df = pd.read_csv(\"../links.csv\")\n",
    "df.head()"
   ]
  },
  {
   "cell_type": "code",
   "execution_count": 11,
   "id": "1a7dfa16-01bc-435d-8632-cd290f669aa8",
   "metadata": {},
   "outputs": [],
   "source": [
    "url_list = df[\"link\"].to_list()\n",
    "url_text_list = [url_to_string(url) for url in url_list]"
   ]
  },
  {
   "cell_type": "code",
   "execution_count": 12,
   "id": "96f6beb1-83d3-4afa-9470-38e931cbca79",
   "metadata": {},
   "outputs": [
    {
     "data": {
      "text/html": [
       "<div>\n",
       "<style scoped>\n",
       "    .dataframe tbody tr th:only-of-type {\n",
       "        vertical-align: middle;\n",
       "    }\n",
       "\n",
       "    .dataframe tbody tr th {\n",
       "        vertical-align: top;\n",
       "    }\n",
       "\n",
       "    .dataframe thead th {\n",
       "        text-align: right;\n",
       "    }\n",
       "</style>\n",
       "<table border=\"1\" class=\"dataframe\">\n",
       "  <thead>\n",
       "    <tr style=\"text-align: right;\">\n",
       "      <th></th>\n",
       "      <th>title</th>\n",
       "      <th>link</th>\n",
       "      <th>url_text</th>\n",
       "    </tr>\n",
       "  </thead>\n",
       "  <tbody>\n",
       "    <tr>\n",
       "      <th>0</th>\n",
       "      <td>informaticen cfc</td>\n",
       "      <td>www.orientation.ch/dyn/show/1900?id=152</td>\n",
       "      <td>Informaticien CFC / Informaticienne CFC - orie...</td>\n",
       "    </tr>\n",
       "    <tr>\n",
       "      <th>1</th>\n",
       "      <td>informaticen es</td>\n",
       "      <td>www.orientation.ch/dyn/show/1900?id=885</td>\n",
       "      <td>Informaticien ES / Informaticienne ES - orient...</td>\n",
       "    </tr>\n",
       "    <tr>\n",
       "      <th>2</th>\n",
       "      <td>informatique université de fribourg</td>\n",
       "      <td>www.unifr.ch/inf/fr/informatique</td>\n",
       "      <td>Informatique | Département d'informatique  | U...</td>\n",
       "    </tr>\n",
       "    <tr>\n",
       "      <th>3</th>\n",
       "      <td>informatique de gestion université de fribourg</td>\n",
       "      <td>www.unifr.ch/inf/fr/informatique-de-gestion</td>\n",
       "      <td>Informatique de gestion | Département d'inform...</td>\n",
       "    </tr>\n",
       "    <tr>\n",
       "      <th>4</th>\n",
       "      <td>informatique université de genève</td>\n",
       "      <td>www.unige.ch/dinfo/formations/bachelor</td>\n",
       "      <td>Bachelor en sciences informatiques Présentatio...</td>\n",
       "    </tr>\n",
       "  </tbody>\n",
       "</table>\n",
       "</div>"
      ],
      "text/plain": [
       "                                            title  \\\n",
       "0                                informaticen cfc   \n",
       "1                                 informaticen es   \n",
       "2             informatique université de fribourg   \n",
       "3  informatique de gestion université de fribourg   \n",
       "4               informatique université de genève   \n",
       "\n",
       "                                          link  \\\n",
       "0      www.orientation.ch/dyn/show/1900?id=152   \n",
       "1      www.orientation.ch/dyn/show/1900?id=885   \n",
       "2             www.unifr.ch/inf/fr/informatique   \n",
       "3  www.unifr.ch/inf/fr/informatique-de-gestion   \n",
       "4       www.unige.ch/dinfo/formations/bachelor   \n",
       "\n",
       "                                            url_text  \n",
       "0  Informaticien CFC / Informaticienne CFC - orie...  \n",
       "1  Informaticien ES / Informaticienne ES - orient...  \n",
       "2  Informatique | Département d'informatique  | U...  \n",
       "3  Informatique de gestion | Département d'inform...  \n",
       "4  Bachelor en sciences informatiques Présentatio...  "
      ]
     },
     "execution_count": 12,
     "metadata": {},
     "output_type": "execute_result"
    }
   ],
   "source": [
    "df[\"url_text\"] = url_text_list\n",
    "df.head()"
   ]
  },
  {
   "cell_type": "markdown",
   "id": "7796918a-f81b-4dd7-a556-ef1a44f2cb6d",
   "metadata": {},
   "source": [
    "## Model List\n",
    "\n",
    "Infomaniak has 2 models:\n",
    "- mini_lm_l12_v2\n",
    "- bge_multilingual_gemma2\n",
    "\n",
    "By default, chroma DB uses:\n",
    "- all-MiniLM-L6-v2\n",
    "\n",
    "Some 2 other functions:\n",
    "- TF-IDF\n",
    "- BM25\n",
    "\n",
    "We should probably benchmark these three models, see how they perform."
   ]
  },
  {
   "cell_type": "code",
   "execution_count": 13,
   "id": "b2b58f04-f6ab-4eb3-aa08-a603aa8a799f",
   "metadata": {},
   "outputs": [
    {
     "data": {
      "text/plain": [
       "1760191073011173104"
      ]
     },
     "execution_count": 13,
     "metadata": {},
     "output_type": "execute_result"
    }
   ],
   "source": [
    "DB_PATH = \"../data/\"\n",
    "\n",
    "client = chromadb.PersistentClient(path=DB_PATH)\n",
    "\n",
    "# ensure the DB is available\n",
    "client.heartbeat()"
   ]
  },
  {
   "cell_type": "code",
   "execution_count": 14,
   "id": "371d5ef7-bd28-43d6-8145-b5197e1cd3f6",
   "metadata": {},
   "outputs": [
    {
     "data": {
      "text/plain": [
       "<chromadb.utils.embedding_functions.DefaultEmbeddingFunction at 0x763e4dad4850>"
      ]
     },
     "execution_count": 14,
     "metadata": {},
     "output_type": "execute_result"
    }
   ],
   "source": [
    "collection._embedding_function"
   ]
  },
  {
   "cell_type": "code",
   "execution_count": 15,
   "id": "b84fc84b-5c44-4cdf-906b-579266258537",
   "metadata": {},
   "outputs": [
    {
     "name": "stdout",
     "output_type": "stream",
     "text": [
      "Collection(name=study-docs)\n"
     ]
    }
   ],
   "source": [
    "collection = client.get_or_create_collection(name=\"study-docs\")\n",
    "print(collection)"
   ]
  },
  {
   "cell_type": "code",
   "execution_count": 16,
   "id": "82408a80-8469-476c-8d4a-544f671eb4a1",
   "metadata": {},
   "outputs": [],
   "source": [
    "from chromadb.utils.embedding_functions import Bm25EmbeddingFunction\n",
    "\n",
    "ids: list[str] = df[\"title\"].to_list() #df.index.astype(\"str\").to_list()\n",
    "documents: list[str] = df[\"url_text\"].to_list()\n",
    "\n",
    "collection.add(\n",
    "    ids=ids,\n",
    "    documents=documents,\n",
    ")"
   ]
  },
  {
   "cell_type": "code",
   "execution_count": 17,
   "id": "de716f67-3770-48ef-8345-2542f559af26",
   "metadata": {},
   "outputs": [],
   "source": [
    "results = collection.query(\n",
    "    query_texts=[\"J'aimerais faire un apprentissage en informatique\"],\n",
    "    n_results=5,\n",
    ")"
   ]
  },
  {
   "cell_type": "code",
   "execution_count": 18,
   "id": "faaba523-d179-41a6-8dbb-d474bf9f391a",
   "metadata": {},
   "outputs": [
    {
     "name": "stdout",
     "output_type": "stream",
     "text": [
      "[['42 lausanne', 'idec', 'informatique université de fribourg', 'informatique de gestion université de fribourg', 'informatique université de genève']]\n"
     ]
    }
   ],
   "source": [
    "print(results[\"ids\"])"
   ]
  }
 ],
 "metadata": {
  "kernelspec": {
   "display_name": "Python 3 (ipykernel)",
   "language": "python",
   "name": "python3"
  },
  "language_info": {
   "codemirror_mode": {
    "name": "ipython",
    "version": 3
   },
   "file_extension": ".py",
   "mimetype": "text/x-python",
   "name": "python",
   "nbconvert_exporter": "python",
   "pygments_lexer": "ipython3",
   "version": "3.13.2"
  }
 },
 "nbformat": 4,
 "nbformat_minor": 5
}

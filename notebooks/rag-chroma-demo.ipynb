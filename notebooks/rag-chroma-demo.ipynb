{
 "cells": [
  {
   "cell_type": "markdown",
   "id": "21d38dfa-2875-4058-9a65-a632356beffe",
   "metadata": {},
   "source": [
    "# RAG\n",
    "\n",
    "A notebook to demo how we can use Retrieval Augmented Generation (RAG) with an LLM."
   ]
  },
  {
   "cell_type": "code",
   "execution_count": 34,
   "id": "dbaf28e9-00c5-4375-b6ff-4ec1159b8460",
   "metadata": {},
   "outputs": [
    {
     "data": {
      "text/plain": [
       "True"
      ]
     },
     "execution_count": 34,
     "metadata": {},
     "output_type": "execute_result"
    }
   ],
   "source": [
    "import requests\n",
    "import pandas as pd\n",
    "import os \n",
    "from dotenv import load_dotenv\n",
    "\n",
    "load_dotenv() "
   ]
  },
  {
   "cell_type": "code",
   "execution_count": null,
   "id": "899294f4-e47c-4bf7-895b-4e1474dfcf34",
   "metadata": {},
   "outputs": [],
   "source": [
    "import requests\n",
    "import pandas as pd\n",
    "import os \n",
    "from dotenv import load_dotenv\n",
    "\n",
    "load_dotenv() \n",
    "\n",
    "URL = \"https://api.infomaniak.com/1/ai/models\"\n",
    "headers = {\n",
    "  'Authorization': f'Bearer {os.getenv(\"API_TOKEN\")}',\n",
    "  'Content-Type': 'application/json',\n",
    "}\n",
    "req = requests.request(\"GET\", url = URL , headers = headers)\n",
    "res = req.json()\n",
    "\n",
    "\n",
    "df = pd.DataFrame(res[\"data\"])\n",
    "df[df[\"type\"] == \"embedding\"]"
   ]
  },
  {
   "cell_type": "markdown",
   "id": "8e3f76d2-3e75-4583-ac49-fc08ea309ac3",
   "metadata": {},
   "source": [
    "## Chroma Demo\n",
    "\n",
    "A notebook to demo how we can use Retrieval Augmented Generation (RAG) with an LLM.\n",
    "\n",
    "We will use ChromaDB as the vector store for this."
   ]
  },
  {
   "cell_type": "code",
   "execution_count": null,
   "id": "917b91fa-e67c-4c70-aa38-c788b93f567c",
   "metadata": {},
   "outputs": [],
   "source": [
    "from dotenv import load_dotenv\n",
    "import chromadb\n",
    "import os\n",
    "\n",
    "load_dotenv() \n",
    "\n",
    "chroma_client = chromadb.Client()"
   ]
  },
  {
   "cell_type": "code",
   "execution_count": null,
   "id": "44c18454-236e-4f91-ae25-a829ee2afe6e",
   "metadata": {},
   "outputs": [],
   "source": [
    "collection = chroma_client.get_or_create_collection(name=\"main\")\n",
    "collection"
   ]
  },
  {
   "cell_type": "code",
   "execution_count": null,
   "id": "0e40778f-f14a-4eca-9dd5-c4f737208d1f",
   "metadata": {},
   "outputs": [],
   "source": [
    "chroma_client.list_collections()"
   ]
  },
  {
   "cell_type": "code",
   "execution_count": null,
   "id": "482288b1-eb46-4eb7-9fe0-bc79103ffca8",
   "metadata": {},
   "outputs": [],
   "source": [
    "# just a quick demo on how this works\n",
    "# by default this uses a MiniLM L6-v2\n",
    "collection.add(\n",
    "    ids=[\"id1\", \"id2\", \"id3\", \"id4\"],\n",
    "    documents=[\n",
    "        \"document sur un cfc / apprentissage\",\n",
    "        \"document sur l'epfl\",\n",
    "        \"document sur 42 Lausanne\",\n",
    "        \"document sur université de fribougr\",\n",
    "    ]\n",
    ")\n",
    "\n",
    "print(\"Number of items in the collection:\", collection.count())"
   ]
  },
  {
   "cell_type": "code",
   "execution_count": null,
   "id": "a86fb99e-43b6-44de-bda5-6005eee01892",
   "metadata": {},
   "outputs": [],
   "source": [
    "out = collection.query(\n",
    "    query_texts=[\"J'aimerais faire un apprentissage\"],\n",
    "    n_results=1,\n",
    ")\n",
    "\n",
    "out"
   ]
  },
  {
   "cell_type": "code",
   "execution_count": null,
   "id": "af8bdcfb-378d-4ee7-95dc-b784f84d7673",
   "metadata": {
    "scrolled": true
   },
   "outputs": [],
   "source": [
    "out = collection.query(\n",
    "    query_texts=[\"J'aimerais aller au collège pour ensuite faire l'université\"],\n",
    "    n_results=2,\n",
    ")\n",
    "\n",
    "# key documents returns the text of the relevant docs\n",
    "out[\"documents\"]"
   ]
  },
  {
   "cell_type": "code",
   "execution_count": null,
   "id": "3e24486a-8b56-4ab2-9500-46956950614b",
   "metadata": {},
   "outputs": [],
   "source": [
    "chroma_client.delete_collection(name=\"main\")"
   ]
  },
  {
   "cell_type": "markdown",
   "id": "9b87ba2c-1190-4ddb-ad58-0fdf097fc434",
   "metadata": {},
   "source": [
    "## Data Processing: HTML to Text\n",
    "\n",
    "using beautifulSoup and simple get request, we collect the data from websites."
   ]
  },
  {
   "cell_type": "code",
   "execution_count": 1,
   "id": "ea4dbef7-eefe-4179-af79-f712d6211a41",
   "metadata": {},
   "outputs": [],
   "source": [
    "import requests\n",
    "from bs4 import BeautifulSoup\n",
    "\n",
    "url = \"www.orientation.ch/dyn/show/1900?id=152\"\n",
    "\n",
    "res = requests.get(\"https://\" + url)"
   ]
  },
  {
   "cell_type": "code",
   "execution_count": 2,
   "id": "958c47e0-3c85-4690-a0e2-d9b50c9f558d",
   "metadata": {},
   "outputs": [
    {
     "name": "stdout",
     "output_type": "stream",
     "text": [
      "Number of chars: 30161\n",
      "Number of words: 3883\n"
     ]
    }
   ],
   "source": [
    "# needed to pretend I am a normal user ;)\n",
    "HEADERS = {\n",
    "    'User-Agent': 'Mozilla/5.0 (Macintosh; Intel Mac OS X 10_11_5) AppleWebKit/537.36 (KHTML, like Gecko) Chrome/50.0.2661.102 Safari/537.36'\n",
    "}\n",
    "\n",
    "\n",
    "def url_to_string(url: str) -> str:\n",
    "    if not url.startswith(\"https://\"):\n",
    "        url = \"https://\" + url\n",
    "    \n",
    "    res = requests.get(url, headers=HEADERS)\n",
    "    res.raise_for_status()\n",
    "\n",
    "    soup = BeautifulSoup(res.text, \"html.parser\")\n",
    "    site_text = \" \".join([text for text in soup.stripped_strings])\n",
    "    return site_text\n",
    "\n",
    "site_text = url_to_string(url)\n",
    "\n",
    "print(\"Number of chars:\", len(site_text))\n",
    "print(\"Number of words:\", len(site_text.split()))"
   ]
  },
  {
   "cell_type": "code",
   "execution_count": 3,
   "id": "dba417e1-96ad-4dd7-aebc-58231ef73120",
   "metadata": {},
   "outputs": [
    {
     "data": {
      "text/html": [
       "<div>\n",
       "<style scoped>\n",
       "    .dataframe tbody tr th:only-of-type {\n",
       "        vertical-align: middle;\n",
       "    }\n",
       "\n",
       "    .dataframe tbody tr th {\n",
       "        vertical-align: top;\n",
       "    }\n",
       "\n",
       "    .dataframe thead th {\n",
       "        text-align: right;\n",
       "    }\n",
       "</style>\n",
       "<table border=\"1\" class=\"dataframe\">\n",
       "  <thead>\n",
       "    <tr style=\"text-align: right;\">\n",
       "      <th></th>\n",
       "      <th>title</th>\n",
       "      <th>link</th>\n",
       "    </tr>\n",
       "  </thead>\n",
       "  <tbody>\n",
       "    <tr>\n",
       "      <th>0</th>\n",
       "      <td>informaticen cfc</td>\n",
       "      <td>www.orientation.ch/dyn/show/1900?id=152</td>\n",
       "    </tr>\n",
       "    <tr>\n",
       "      <th>1</th>\n",
       "      <td>informaticen es</td>\n",
       "      <td>www.orientation.ch/dyn/show/1900?id=885</td>\n",
       "    </tr>\n",
       "    <tr>\n",
       "      <th>2</th>\n",
       "      <td>informatique université de fribourg</td>\n",
       "      <td>www.unifr.ch/inf/fr/informatique</td>\n",
       "    </tr>\n",
       "    <tr>\n",
       "      <th>3</th>\n",
       "      <td>informatique de gestion université de fribourg</td>\n",
       "      <td>www.unifr.ch/inf/fr/informatique-de-gestion</td>\n",
       "    </tr>\n",
       "    <tr>\n",
       "      <th>4</th>\n",
       "      <td>informatique université de genève</td>\n",
       "      <td>www.unige.ch/dinfo/formations/bachelor</td>\n",
       "    </tr>\n",
       "  </tbody>\n",
       "</table>\n",
       "</div>"
      ],
      "text/plain": [
       "                                            title  \\\n",
       "0                                informaticen cfc   \n",
       "1                                 informaticen es   \n",
       "2             informatique université de fribourg   \n",
       "3  informatique de gestion université de fribourg   \n",
       "4               informatique université de genève   \n",
       "\n",
       "                                          link  \n",
       "0      www.orientation.ch/dyn/show/1900?id=152  \n",
       "1      www.orientation.ch/dyn/show/1900?id=885  \n",
       "2             www.unifr.ch/inf/fr/informatique  \n",
       "3  www.unifr.ch/inf/fr/informatique-de-gestion  \n",
       "4       www.unige.ch/dinfo/formations/bachelor  "
      ]
     },
     "execution_count": 3,
     "metadata": {},
     "output_type": "execute_result"
    }
   ],
   "source": [
    "import pandas as pd\n",
    "\n",
    "df = pd.read_csv(\"../links.csv\")\n",
    "df.head()"
   ]
  },
  {
   "cell_type": "code",
   "execution_count": 4,
   "id": "1a7dfa16-01bc-435d-8632-cd290f669aa8",
   "metadata": {},
   "outputs": [],
   "source": [
    "url_list = df[\"link\"].to_list()\n",
    "url_text_list = [url_to_string(url) for url in url_list]"
   ]
  },
  {
   "cell_type": "code",
   "execution_count": 5,
   "id": "96f6beb1-83d3-4afa-9470-38e931cbca79",
   "metadata": {},
   "outputs": [
    {
     "data": {
      "text/html": [
       "<div>\n",
       "<style scoped>\n",
       "    .dataframe tbody tr th:only-of-type {\n",
       "        vertical-align: middle;\n",
       "    }\n",
       "\n",
       "    .dataframe tbody tr th {\n",
       "        vertical-align: top;\n",
       "    }\n",
       "\n",
       "    .dataframe thead th {\n",
       "        text-align: right;\n",
       "    }\n",
       "</style>\n",
       "<table border=\"1\" class=\"dataframe\">\n",
       "  <thead>\n",
       "    <tr style=\"text-align: right;\">\n",
       "      <th></th>\n",
       "      <th>title</th>\n",
       "      <th>link</th>\n",
       "      <th>url_text</th>\n",
       "    </tr>\n",
       "  </thead>\n",
       "  <tbody>\n",
       "    <tr>\n",
       "      <th>0</th>\n",
       "      <td>informaticen cfc</td>\n",
       "      <td>www.orientation.ch/dyn/show/1900?id=152</td>\n",
       "      <td>Informaticien CFC / Informaticienne CFC - orie...</td>\n",
       "    </tr>\n",
       "    <tr>\n",
       "      <th>1</th>\n",
       "      <td>informaticen es</td>\n",
       "      <td>www.orientation.ch/dyn/show/1900?id=885</td>\n",
       "      <td>Informaticien ES / Informaticienne ES - orient...</td>\n",
       "    </tr>\n",
       "    <tr>\n",
       "      <th>2</th>\n",
       "      <td>informatique université de fribourg</td>\n",
       "      <td>www.unifr.ch/inf/fr/informatique</td>\n",
       "      <td>Informatique | Département d'informatique  | U...</td>\n",
       "    </tr>\n",
       "    <tr>\n",
       "      <th>3</th>\n",
       "      <td>informatique de gestion université de fribourg</td>\n",
       "      <td>www.unifr.ch/inf/fr/informatique-de-gestion</td>\n",
       "      <td>Informatique de gestion | Département d'inform...</td>\n",
       "    </tr>\n",
       "    <tr>\n",
       "      <th>4</th>\n",
       "      <td>informatique université de genève</td>\n",
       "      <td>www.unige.ch/dinfo/formations/bachelor</td>\n",
       "      <td>Bachelor en sciences informatiques Présentatio...</td>\n",
       "    </tr>\n",
       "  </tbody>\n",
       "</table>\n",
       "</div>"
      ],
      "text/plain": [
       "                                            title  \\\n",
       "0                                informaticen cfc   \n",
       "1                                 informaticen es   \n",
       "2             informatique université de fribourg   \n",
       "3  informatique de gestion université de fribourg   \n",
       "4               informatique université de genève   \n",
       "\n",
       "                                          link  \\\n",
       "0      www.orientation.ch/dyn/show/1900?id=152   \n",
       "1      www.orientation.ch/dyn/show/1900?id=885   \n",
       "2             www.unifr.ch/inf/fr/informatique   \n",
       "3  www.unifr.ch/inf/fr/informatique-de-gestion   \n",
       "4       www.unige.ch/dinfo/formations/bachelor   \n",
       "\n",
       "                                            url_text  \n",
       "0  Informaticien CFC / Informaticienne CFC - orie...  \n",
       "1  Informaticien ES / Informaticienne ES - orient...  \n",
       "2  Informatique | Département d'informatique  | U...  \n",
       "3  Informatique de gestion | Département d'inform...  \n",
       "4  Bachelor en sciences informatiques Présentatio...  "
      ]
     },
     "execution_count": 5,
     "metadata": {},
     "output_type": "execute_result"
    }
   ],
   "source": [
    "df[\"url_text\"] = url_text_list\n",
    "df.head()"
   ]
  },
  {
   "cell_type": "markdown",
   "id": "7796918a-f81b-4dd7-a556-ef1a44f2cb6d",
   "metadata": {},
   "source": [
    "## RAG Benchmark\n",
    "\n",
    "First two models are on infomaniak.\n",
    "The rest we will need to train ourselves by getting the model with a GPU.\n",
    "\n",
    "| Model name | Link |\n",
    "|------------|------|\n",
    "|MiniLM L12 v2 | https://developer.infomaniak.com/docs/api/get/1/ai/models |\n",
    "|BGE Multilingual Gemma 2 | https://developer.infomaniak.com/docs/api/get/1/ai/models |\n",
    "| paraphrase-multilingual-MiniLM-L12-v2 | https://huggingface.co/sentence-transformers/paraphrase-multilingual-MiniLM-L12-v2 |\n",
    "| paraphrase-multilingual-mpnet-base-v2 | https://huggingface.co/sentence-transformers/paraphrase-multilingual-mpnet-base-v2 |\n",
    "| distiluse-base-multilingual-cased-v2 | https://huggingface.co/sentence-transformers/distiluse-base-multilingual-cased-v2 |\n",
    "| Alibaba-NLP/gte-Qwen2-1.5B-instruct | https://huggingface.co/Alibaba-NLP/gte-Qwen2-1.5B-instruct |\n",
    "| BM25 | chromadb through `fastembed` | "
   ]
  },
  {
   "cell_type": "code",
   "execution_count": 15,
   "id": "b2b58f04-f6ab-4eb3-aa08-a603aa8a799f",
   "metadata": {},
   "outputs": [
    {
     "data": {
      "text/plain": [
       "1760196401520358617"
      ]
     },
     "execution_count": 15,
     "metadata": {},
     "output_type": "execute_result"
    }
   ],
   "source": [
    "import chromadb\n",
    "from chromadb.utils.embedding_functions import Bm25EmbeddingFunction, DefaultEmbeddingFunction\n",
    "\n",
    "DB_PATH = \"../data/\"\n",
    "\n",
    "client = chromadb.PersistentClient(path=DB_PATH)\n",
    "# ensure the DB is available\n",
    "client.heartbeat()"
   ]
  },
  {
   "cell_type": "markdown",
   "id": "1390312b-944f-4e55-86af-17bcd22322b8",
   "metadata": {},
   "source": [
    "## MultiLingual Gemma 2"
   ]
  },
  {
   "cell_type": "code",
   "execution_count": null,
   "id": "203702ec-91d2-401f-9290-0bdf08f22b21",
   "metadata": {},
   "outputs": [],
   "source": [
    "ids: list[str] = df[\"title\"].to_list() #df.index.astype(\"str\").to_list()\n",
    "documents: list[str] = df[\"url_text\"].to_list()\n",
    "\n",
    "\n",
    "PRODUCT_ID = os.getenv(\"PRODUCT_ID\")\n",
    "API_TOKEN = os.getenv(\"API_TOKEN\")\n",
    "\n",
    "URL = f\"https://api.infomaniak.com/1/ai/{PRODUCT_ID}/openai/v1/embeddings\"\n",
    "\n",
    "headers = {\n",
    "  'Authorization': f\"Bearer {API_TOKEN}\",\n",
    "  'Content-Type': 'application/json',\n",
    "}\n",
    "\n",
    "payload = {\n",
    "    \"input\": documents,\n",
    "    \"model\": \"bge_multilingual_gemma2\",\n",
    "    \"mode\": \"index\",\n",
    "}\n",
    "\n",
    "req = requests.post(url=URL , json=payload, headers=headers)\n",
    "res = req.json()\n",
    "print(req.status_code)\n",
    "\n",
    "assert len(documents) == len(x[\"data\"])"
   ]
  },
  {
   "cell_type": "code",
   "execution_count": 150,
   "id": "1119c7d5-d467-4cbe-bd94-9012b9a567c1",
   "metadata": {},
   "outputs": [],
   "source": [
    "from chromadb import Documents, EmbeddingFunction, Embeddings\n",
    "\n",
    "PRODUCT_ID = os.getenv(\"PRODUCT_ID\")\n",
    "API_TOKEN = os.getenv(\"API_TOKEN\")\n",
    "\n",
    "\n",
    "class MultinligualGemma2(EmbeddingFunction):\n",
    "    def __init__(self) -> None:\n",
    "        self.url = f\"https://api.infomaniak.com/1/ai/{PRODUCT_ID}/openai/v1/embeddings\"\n",
    "        self.headers = {\n",
    "          'Authorization': f\"Bearer {API_TOKEN}\",\n",
    "          'Content-Type': 'application/json',\n",
    "        }\n",
    "        \n",
    "    def __call__(self, input_data: Documents) -> Embeddings:\n",
    "        payload = {\n",
    "            \"input\": input_data,\n",
    "            \"model\": \"bge_multilingual_gemma2\",\n",
    "        }\n",
    "\n",
    "        req = requests.post(url=self.url, json=payload, headers=self.headers)\n",
    "        res = req.json()\n",
    "        data = res[\"data\"]\n",
    "        embeddings = [np.array(x[\"embedding\"]) for x in data]\n",
    "        \n",
    "        return embeddings"
   ]
  },
  {
   "cell_type": "code",
   "execution_count": 153,
   "id": "54f47f8a-aecb-43f7-86ec-b69131d1d336",
   "metadata": {},
   "outputs": [
    {
     "name": "stdout",
     "output_type": "stream",
     "text": [
      "Collection(name=multilingual-gemma2)\n",
      "<__main__.MultinligualGemma2 object at 0x72d9b2f2b250>\n"
     ]
    }
   ],
   "source": [
    "multilingual_gemma2_collection = client.get_or_create_collection(\n",
    "    name=\"multilingual-gemma2\",\n",
    "    embedding_function=MultinligualGemma2()\n",
    ")\n",
    "\n",
    "print(multilingual_gemma2_collection)\n",
    "print(multilingual_gemma2_collection._embedding_function)"
   ]
  },
  {
   "cell_type": "code",
   "execution_count": 154,
   "id": "2da32200-7477-4b66-aaf7-c66a8dbbb9cc",
   "metadata": {},
   "outputs": [],
   "source": [
    "ids: list[str] = df[\"title\"].to_list() #df.index.astype(\"str\").to_list()\n",
    "documents: list[str] = df[\"url_text\"].to_list()\n",
    "\n",
    "multilingual_gemma2_collection.add(\n",
    "    ids=ids,\n",
    "    documents=documents,\n",
    ")"
   ]
  },
  {
   "cell_type": "code",
   "execution_count": 155,
   "id": "55cb6eec-5030-4710-8273-b87e18bacfa2",
   "metadata": {},
   "outputs": [
    {
     "data": {
      "text/plain": [
       "8"
      ]
     },
     "execution_count": 155,
     "metadata": {},
     "output_type": "execute_result"
    }
   ],
   "source": [
    "multilingual_gemma2_collection.count()"
   ]
  },
  {
   "cell_type": "code",
   "execution_count": 156,
   "id": "bd0789a9-48c6-459e-88d2-8798f4869d35",
   "metadata": {},
   "outputs": [],
   "source": [
    "results = multilingual_gemma2_collection.query(\n",
    "    query_texts=[\"J'aimerais faire un apprentissage\"],\n",
    "    n_results=2,\n",
    ")   "
   ]
  },
  {
   "cell_type": "code",
   "execution_count": 158,
   "id": "b7275274-51f6-4e4c-a8d7-1ee26297a3a5",
   "metadata": {},
   "outputs": [
    {
     "data": {
      "text/plain": [
       "[['42 lausanne', 'informaticen cfc']]"
      ]
     },
     "execution_count": 158,
     "metadata": {},
     "output_type": "execute_result"
    }
   ],
   "source": [
    "results[\"ids\"]"
   ]
  },
  {
   "cell_type": "markdown",
   "id": "7e9d2547-d095-41a3-afa8-1001388fc0fb",
   "metadata": {},
   "source": [
    "## BM25 "
   ]
  },
  {
   "cell_type": "code",
   "execution_count": 17,
   "id": "e56305d0-770d-4677-99ff-070797a3fd93",
   "metadata": {},
   "outputs": [
    {
     "name": "stdout",
     "output_type": "stream",
     "text": [
      "Collection(name=bm25)\n",
      "<chromadb.utils.embedding_functions.DefaultEmbeddingFunction object at 0x72d9abe5f3f0>\n"
     ]
    }
   ],
   "source": [
    "bm_25_collection = client.get_or_create_collection(\n",
    "    name=\"bm25\",\n",
    "    embedding_function=DefaultEmbeddingFunction()\n",
    ")\n",
    "\n",
    "print(bm_25_collection)\n",
    "print(bm_25_collection._embedding_function)"
   ]
  },
  {
   "cell_type": "code",
   "execution_count": 18,
   "id": "2cb272d5-29ba-49ef-948d-0b106fc88b57",
   "metadata": {
    "scrolled": true
   },
   "outputs": [],
   "source": [
    "ids: list[str] = df[\"title\"].to_list() #df.index.astype(\"str\").to_list()\n",
    "documents: list[str] = df[\"url_text\"].to_list()\n",
    "\n",
    "# NOT WOKRING: WHY?\n",
    "bm_25_collection.add(\n",
    "    ids=ids,\n",
    "    documents=documents,\n",
    ")"
   ]
  }
 ],
 "metadata": {
  "kernelspec": {
   "display_name": "Python 3 (ipykernel)",
   "language": "python",
   "name": "python3"
  },
  "language_info": {
   "codemirror_mode": {
    "name": "ipython",
    "version": 3
   },
   "file_extension": ".py",
   "mimetype": "text/x-python",
   "name": "python",
   "nbconvert_exporter": "python",
   "pygments_lexer": "ipython3",
   "version": "3.13.2"
  }
 },
 "nbformat": 4,
 "nbformat_minor": 5
}

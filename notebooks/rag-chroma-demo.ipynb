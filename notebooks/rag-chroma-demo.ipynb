{
 "cells": [
  {
   "cell_type": "markdown",
   "id": "8e3f76d2-3e75-4583-ac49-fc08ea309ac3",
   "metadata": {},
   "source": [
    "# RAG Demo\n",
    "\n",
    "A notebook to demo how we can use Retrieval Augmented Generation (RAG) with an LLM.\n",
    "\n",
    "We will use ChromaDB as the vector store for this."
   ]
  },
  {
   "cell_type": "code",
   "execution_count": 1,
   "id": "917b91fa-e67c-4c70-aa38-c788b93f567c",
   "metadata": {},
   "outputs": [
    {
     "data": {
      "text/plain": [
       "True"
      ]
     },
     "execution_count": 1,
     "metadata": {},
     "output_type": "execute_result"
    }
   ],
   "source": [
    "from dotenv import load_dotenv\n",
    "import os\n",
    "\n",
    "load_dotenv() "
   ]
  },
  {
   "cell_type": "code",
   "execution_count": 2,
   "id": "c2a0d812-3adb-4c96-9aa8-7a68c90e4410",
   "metadata": {},
   "outputs": [],
   "source": [
    "import chromadb\n",
    "\n",
    "chroma_client = chromadb.Client()"
   ]
  },
  {
   "cell_type": "code",
   "execution_count": 3,
   "id": "44c18454-236e-4f91-ae25-a829ee2afe6e",
   "metadata": {},
   "outputs": [
    {
     "data": {
      "text/plain": [
       "Collection(name=main)"
      ]
     },
     "execution_count": 3,
     "metadata": {},
     "output_type": "execute_result"
    }
   ],
   "source": [
    "collection = chroma_client.get_or_create_collection(name=\"main\")\n",
    "collection"
   ]
  },
  {
   "cell_type": "code",
   "execution_count": 4,
   "id": "0e40778f-f14a-4eca-9dd5-c4f737208d1f",
   "metadata": {},
   "outputs": [
    {
     "data": {
      "text/plain": [
       "[Collection(name=main)]"
      ]
     },
     "execution_count": 4,
     "metadata": {},
     "output_type": "execute_result"
    }
   ],
   "source": [
    "chroma_client.list_collections()"
   ]
  },
  {
   "cell_type": "code",
   "execution_count": 5,
   "id": "482288b1-eb46-4eb7-9fe0-bc79103ffca8",
   "metadata": {},
   "outputs": [
    {
     "name": "stdout",
     "output_type": "stream",
     "text": [
      "Number of items in the collection: 4\n"
     ]
    }
   ],
   "source": [
    "# just a quick demo on how this works\n",
    "# by default this uses a MiniLM L6-v2\n",
    "collection.add(\n",
    "    ids=[\"id1\", \"id2\", \"id3\", \"id4\"],\n",
    "    documents=[\n",
    "        \"document sur un cfc / apprentissage\",\n",
    "        \"document sur l'epfl\",\n",
    "        \"document sur 42 Lausanne\",\n",
    "        \"document sur université de fribougr\",\n",
    "    ]\n",
    ")\n",
    "\n",
    "print(\"Number of items in the collection:\", collection.count())"
   ]
  },
  {
   "cell_type": "code",
   "execution_count": 6,
   "id": "a86fb99e-43b6-44de-bda5-6005eee01892",
   "metadata": {},
   "outputs": [
    {
     "data": {
      "text/plain": [
       "{'ids': [['id1']],\n",
       " 'embeddings': None,\n",
       " 'documents': [['document sur un cfc / apprentissage']],\n",
       " 'uris': None,\n",
       " 'included': ['metadatas', 'documents', 'distances'],\n",
       " 'data': None,\n",
       " 'metadatas': [[None]],\n",
       " 'distances': [[0.9254448413848877]]}"
      ]
     },
     "execution_count": 6,
     "metadata": {},
     "output_type": "execute_result"
    }
   ],
   "source": [
    "out = collection.query(\n",
    "    query_texts=[\"J'aimerais faire un apprentissage\"],\n",
    "    n_results=1,\n",
    ")\n",
    "\n",
    "out"
   ]
  },
  {
   "cell_type": "code",
   "execution_count": 7,
   "id": "af8bdcfb-378d-4ee7-95dc-b784f84d7673",
   "metadata": {
    "scrolled": true
   },
   "outputs": [
    {
     "data": {
      "text/plain": [
       "[['document sur université de fribougr', \"document sur l'epfl\"]]"
      ]
     },
     "execution_count": 7,
     "metadata": {},
     "output_type": "execute_result"
    }
   ],
   "source": [
    "out = collection.query(\n",
    "    query_texts=[\"J'aimerais aller au collège pour ensuite faire l'université\"],\n",
    "    n_results=2,\n",
    ")\n",
    "\n",
    "# key documents returns the text of the relevant docs\n",
    "out[\"documents\"]"
   ]
  }
 ],
 "metadata": {
  "kernelspec": {
   "display_name": "Python 3 (ipykernel)",
   "language": "python",
   "name": "python3"
  },
  "language_info": {
   "codemirror_mode": {
    "name": "ipython",
    "version": 3
   },
   "file_extension": ".py",
   "mimetype": "text/x-python",
   "name": "python",
   "nbconvert_exporter": "python",
   "pygments_lexer": "ipython3",
   "version": "3.13.2"
  }
 },
 "nbformat": 4,
 "nbformat_minor": 5
}
